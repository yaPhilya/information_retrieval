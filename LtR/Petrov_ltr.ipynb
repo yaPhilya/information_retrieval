{
 "cells": [
  {
   "cell_type": "code",
   "execution_count": 1,
   "metadata": {},
   "outputs": [],
   "source": [
    "import pandas as pd\n",
    "import numpy as np\n",
    "import matplotlib.pyplot as plt\n",
    "from IPython import display\n",
    "from tqdm import tqdm_notebook\n",
    "import time\n",
    "\n",
    "import torch\n",
    "from torch import nn\n",
    "from torch.nn import functional as F"
   ]
  },
  {
   "cell_type": "code",
   "execution_count": 3,
   "metadata": {},
   "outputs": [
    {
     "data": {
      "text/html": [
       "<div>\n",
       "<style scoped>\n",
       "    .dataframe tbody tr th:only-of-type {\n",
       "        vertical-align: middle;\n",
       "    }\n",
       "\n",
       "    .dataframe tbody tr th {\n",
       "        vertical-align: top;\n",
       "    }\n",
       "\n",
       "    .dataframe thead th {\n",
       "        text-align: right;\n",
       "    }\n",
       "</style>\n",
       "<table border=\"1\" class=\"dataframe\">\n",
       "  <thead>\n",
       "    <tr style=\"text-align: right;\">\n",
       "      <th></th>\n",
       "      <th>docid</th>\n",
       "      <th>rel</th>\n",
       "      <th>quid</th>\n",
       "      <th>feature_0</th>\n",
       "      <th>feature_1</th>\n",
       "      <th>feature_2</th>\n",
       "      <th>feature_3</th>\n",
       "      <th>feature_4</th>\n",
       "      <th>feature_5</th>\n",
       "      <th>feature_6</th>\n",
       "      <th>...</th>\n",
       "      <th>feature_36</th>\n",
       "      <th>feature_37</th>\n",
       "      <th>feature_38</th>\n",
       "      <th>feature_39</th>\n",
       "      <th>feature_40</th>\n",
       "      <th>feature_41</th>\n",
       "      <th>feature_42</th>\n",
       "      <th>feature_43</th>\n",
       "      <th>feature_44</th>\n",
       "      <th>feature_45</th>\n",
       "    </tr>\n",
       "  </thead>\n",
       "  <tbody>\n",
       "    <tr>\n",
       "      <th>0</th>\n",
       "      <td>1</td>\n",
       "      <td>0</td>\n",
       "      <td>10</td>\n",
       "      <td>0.000000</td>\n",
       "      <td>0.000000</td>\n",
       "      <td>0.00</td>\n",
       "      <td>0.000000</td>\n",
       "      <td>0.000000</td>\n",
       "      <td>0.0</td>\n",
       "      <td>0.0</td>\n",
       "      <td>...</td>\n",
       "      <td>0.000000</td>\n",
       "      <td>0.000000</td>\n",
       "      <td>0.000000</td>\n",
       "      <td>0.000000</td>\n",
       "      <td>0.000000</td>\n",
       "      <td>0.000000</td>\n",
       "      <td>0.017241</td>\n",
       "      <td>0.000000</td>\n",
       "      <td>0.000000</td>\n",
       "      <td>0.0</td>\n",
       "    </tr>\n",
       "    <tr>\n",
       "      <th>1</th>\n",
       "      <td>2</td>\n",
       "      <td>1</td>\n",
       "      <td>10</td>\n",
       "      <td>0.031310</td>\n",
       "      <td>0.666667</td>\n",
       "      <td>0.50</td>\n",
       "      <td>0.166667</td>\n",
       "      <td>0.033206</td>\n",
       "      <td>0.0</td>\n",
       "      <td>0.0</td>\n",
       "      <td>...</td>\n",
       "      <td>0.646890</td>\n",
       "      <td>0.686107</td>\n",
       "      <td>0.823908</td>\n",
       "      <td>0.750092</td>\n",
       "      <td>0.385426</td>\n",
       "      <td>0.923077</td>\n",
       "      <td>0.086207</td>\n",
       "      <td>0.333333</td>\n",
       "      <td>0.448276</td>\n",
       "      <td>0.0</td>\n",
       "    </tr>\n",
       "    <tr>\n",
       "      <th>2</th>\n",
       "      <td>3</td>\n",
       "      <td>1</td>\n",
       "      <td>10</td>\n",
       "      <td>0.078682</td>\n",
       "      <td>0.166667</td>\n",
       "      <td>0.50</td>\n",
       "      <td>0.333333</td>\n",
       "      <td>0.080022</td>\n",
       "      <td>0.0</td>\n",
       "      <td>0.0</td>\n",
       "      <td>...</td>\n",
       "      <td>0.649824</td>\n",
       "      <td>0.578581</td>\n",
       "      <td>0.868557</td>\n",
       "      <td>0.641385</td>\n",
       "      <td>0.010462</td>\n",
       "      <td>0.076923</td>\n",
       "      <td>0.074713</td>\n",
       "      <td>0.833333</td>\n",
       "      <td>0.678161</td>\n",
       "      <td>0.0</td>\n",
       "    </tr>\n",
       "    <tr>\n",
       "      <th>3</th>\n",
       "      <td>4</td>\n",
       "      <td>1</td>\n",
       "      <td>10</td>\n",
       "      <td>0.019058</td>\n",
       "      <td>1.000000</td>\n",
       "      <td>1.00</td>\n",
       "      <td>0.500000</td>\n",
       "      <td>0.022591</td>\n",
       "      <td>0.0</td>\n",
       "      <td>0.0</td>\n",
       "      <td>...</td>\n",
       "      <td>0.918403</td>\n",
       "      <td>0.868457</td>\n",
       "      <td>1.000000</td>\n",
       "      <td>0.863460</td>\n",
       "      <td>0.016642</td>\n",
       "      <td>0.153846</td>\n",
       "      <td>0.040230</td>\n",
       "      <td>0.833333</td>\n",
       "      <td>0.896552</td>\n",
       "      <td>0.0</td>\n",
       "    </tr>\n",
       "    <tr>\n",
       "      <th>4</th>\n",
       "      <td>5</td>\n",
       "      <td>0</td>\n",
       "      <td>10</td>\n",
       "      <td>0.039477</td>\n",
       "      <td>0.000000</td>\n",
       "      <td>0.75</td>\n",
       "      <td>0.166667</td>\n",
       "      <td>0.040555</td>\n",
       "      <td>0.0</td>\n",
       "      <td>0.0</td>\n",
       "      <td>...</td>\n",
       "      <td>0.565875</td>\n",
       "      <td>0.569440</td>\n",
       "      <td>0.769845</td>\n",
       "      <td>0.646567</td>\n",
       "      <td>0.073711</td>\n",
       "      <td>0.076923</td>\n",
       "      <td>0.034483</td>\n",
       "      <td>0.333333</td>\n",
       "      <td>0.218391</td>\n",
       "      <td>0.0</td>\n",
       "    </tr>\n",
       "  </tbody>\n",
       "</table>\n",
       "<p>5 rows × 49 columns</p>\n",
       "</div>"
      ],
      "text/plain": [
       "   docid  rel  quid  feature_0  feature_1  feature_2  feature_3  feature_4  \\\n",
       "0      1    0    10   0.000000   0.000000       0.00   0.000000   0.000000   \n",
       "1      2    1    10   0.031310   0.666667       0.50   0.166667   0.033206   \n",
       "2      3    1    10   0.078682   0.166667       0.50   0.333333   0.080022   \n",
       "3      4    1    10   0.019058   1.000000       1.00   0.500000   0.022591   \n",
       "4      5    0    10   0.039477   0.000000       0.75   0.166667   0.040555   \n",
       "\n",
       "   feature_5  feature_6     ...      feature_36  feature_37  feature_38  \\\n",
       "0        0.0        0.0     ...        0.000000    0.000000    0.000000   \n",
       "1        0.0        0.0     ...        0.646890    0.686107    0.823908   \n",
       "2        0.0        0.0     ...        0.649824    0.578581    0.868557   \n",
       "3        0.0        0.0     ...        0.918403    0.868457    1.000000   \n",
       "4        0.0        0.0     ...        0.565875    0.569440    0.769845   \n",
       "\n",
       "   feature_39  feature_40  feature_41  feature_42  feature_43  feature_44  \\\n",
       "0    0.000000    0.000000    0.000000    0.017241    0.000000    0.000000   \n",
       "1    0.750092    0.385426    0.923077    0.086207    0.333333    0.448276   \n",
       "2    0.641385    0.010462    0.076923    0.074713    0.833333    0.678161   \n",
       "3    0.863460    0.016642    0.153846    0.040230    0.833333    0.896552   \n",
       "4    0.646567    0.073711    0.076923    0.034483    0.333333    0.218391   \n",
       "\n",
       "   feature_45  \n",
       "0         0.0  \n",
       "1         0.0  \n",
       "2         0.0  \n",
       "3         0.0  \n",
       "4         0.0  \n",
       "\n",
       "[5 rows x 49 columns]"
      ]
     },
     "execution_count": 3,
     "metadata": {},
     "output_type": "execute_result"
    }
   ],
   "source": [
    "\n",
    "\n",
    "train_data = pd.read_csv('train.tsv', sep='\\t')\n",
    "train_data.head()"
   ]
  },
  {
   "cell_type": "code",
   "execution_count": 34,
   "metadata": {},
   "outputs": [
    {
     "data": {
      "text/plain": [
       "(51562, 49)"
      ]
     },
     "execution_count": 34,
     "metadata": {},
     "output_type": "execute_result"
    }
   ],
   "source": [
    "train_data.shape"
   ]
  },
  {
   "cell_type": "code",
   "execution_count": 6,
   "metadata": {},
   "outputs": [
    {
     "data": {
      "text/html": [
       "<div>\n",
       "<style scoped>\n",
       "    .dataframe tbody tr th:only-of-type {\n",
       "        vertical-align: middle;\n",
       "    }\n",
       "\n",
       "    .dataframe tbody tr th {\n",
       "        vertical-align: top;\n",
       "    }\n",
       "\n",
       "    .dataframe thead th {\n",
       "        text-align: right;\n",
       "    }\n",
       "</style>\n",
       "<table border=\"1\" class=\"dataframe\">\n",
       "  <thead>\n",
       "    <tr style=\"text-align: right;\">\n",
       "      <th></th>\n",
       "      <th>docid</th>\n",
       "      <th>quid</th>\n",
       "      <th>feature_0</th>\n",
       "      <th>feature_1</th>\n",
       "      <th>feature_2</th>\n",
       "      <th>feature_3</th>\n",
       "      <th>feature_4</th>\n",
       "      <th>feature_5</th>\n",
       "      <th>feature_6</th>\n",
       "      <th>feature_7</th>\n",
       "      <th>...</th>\n",
       "      <th>feature_36</th>\n",
       "      <th>feature_37</th>\n",
       "      <th>feature_38</th>\n",
       "      <th>feature_39</th>\n",
       "      <th>feature_40</th>\n",
       "      <th>feature_41</th>\n",
       "      <th>feature_42</th>\n",
       "      <th>feature_43</th>\n",
       "      <th>feature_44</th>\n",
       "      <th>feature_45</th>\n",
       "    </tr>\n",
       "  </thead>\n",
       "  <tbody>\n",
       "    <tr>\n",
       "      <th>0</th>\n",
       "      <td>1</td>\n",
       "      <td>7968</td>\n",
       "      <td>0.000000</td>\n",
       "      <td>0.0</td>\n",
       "      <td>0.0</td>\n",
       "      <td>0.0</td>\n",
       "      <td>0.000000</td>\n",
       "      <td>0.0</td>\n",
       "      <td>0.0</td>\n",
       "      <td>0.0</td>\n",
       "      <td>...</td>\n",
       "      <td>0.000000</td>\n",
       "      <td>0.000000</td>\n",
       "      <td>0.000000</td>\n",
       "      <td>0.000000</td>\n",
       "      <td>0.000000</td>\n",
       "      <td>0.000000</td>\n",
       "      <td>0.055556</td>\n",
       "      <td>0.000000</td>\n",
       "      <td>0.00</td>\n",
       "      <td>0.0</td>\n",
       "    </tr>\n",
       "    <tr>\n",
       "      <th>1</th>\n",
       "      <td>2</td>\n",
       "      <td>7968</td>\n",
       "      <td>0.205882</td>\n",
       "      <td>0.0</td>\n",
       "      <td>0.0</td>\n",
       "      <td>0.0</td>\n",
       "      <td>0.205882</td>\n",
       "      <td>0.0</td>\n",
       "      <td>0.0</td>\n",
       "      <td>0.0</td>\n",
       "      <td>...</td>\n",
       "      <td>0.916516</td>\n",
       "      <td>0.686669</td>\n",
       "      <td>0.674704</td>\n",
       "      <td>0.708795</td>\n",
       "      <td>0.217889</td>\n",
       "      <td>0.272727</td>\n",
       "      <td>0.000000</td>\n",
       "      <td>0.333333</td>\n",
       "      <td>0.42</td>\n",
       "      <td>0.0</td>\n",
       "    </tr>\n",
       "    <tr>\n",
       "      <th>2</th>\n",
       "      <td>3</td>\n",
       "      <td>7968</td>\n",
       "      <td>0.000000</td>\n",
       "      <td>0.0</td>\n",
       "      <td>0.0</td>\n",
       "      <td>0.0</td>\n",
       "      <td>0.000000</td>\n",
       "      <td>0.0</td>\n",
       "      <td>0.0</td>\n",
       "      <td>0.0</td>\n",
       "      <td>...</td>\n",
       "      <td>0.000000</td>\n",
       "      <td>0.000000</td>\n",
       "      <td>0.000000</td>\n",
       "      <td>0.000000</td>\n",
       "      <td>0.031069</td>\n",
       "      <td>0.090909</td>\n",
       "      <td>0.092593</td>\n",
       "      <td>0.500000</td>\n",
       "      <td>0.68</td>\n",
       "      <td>0.0</td>\n",
       "    </tr>\n",
       "    <tr>\n",
       "      <th>3</th>\n",
       "      <td>4</td>\n",
       "      <td>7968</td>\n",
       "      <td>0.088235</td>\n",
       "      <td>0.0</td>\n",
       "      <td>0.0</td>\n",
       "      <td>0.0</td>\n",
       "      <td>0.088235</td>\n",
       "      <td>0.0</td>\n",
       "      <td>0.0</td>\n",
       "      <td>0.0</td>\n",
       "      <td>...</td>\n",
       "      <td>0.900721</td>\n",
       "      <td>0.789495</td>\n",
       "      <td>0.536695</td>\n",
       "      <td>0.789458</td>\n",
       "      <td>0.562992</td>\n",
       "      <td>0.045455</td>\n",
       "      <td>0.000000</td>\n",
       "      <td>0.666667</td>\n",
       "      <td>0.86</td>\n",
       "      <td>0.0</td>\n",
       "    </tr>\n",
       "    <tr>\n",
       "      <th>4</th>\n",
       "      <td>5</td>\n",
       "      <td>7968</td>\n",
       "      <td>0.558824</td>\n",
       "      <td>0.0</td>\n",
       "      <td>0.0</td>\n",
       "      <td>0.0</td>\n",
       "      <td>0.558824</td>\n",
       "      <td>0.0</td>\n",
       "      <td>0.0</td>\n",
       "      <td>0.0</td>\n",
       "      <td>...</td>\n",
       "      <td>0.557493</td>\n",
       "      <td>0.452582</td>\n",
       "      <td>0.660139</td>\n",
       "      <td>0.389950</td>\n",
       "      <td>0.120613</td>\n",
       "      <td>0.772727</td>\n",
       "      <td>0.000000</td>\n",
       "      <td>0.500000</td>\n",
       "      <td>0.46</td>\n",
       "      <td>0.0</td>\n",
       "    </tr>\n",
       "  </tbody>\n",
       "</table>\n",
       "<p>5 rows × 48 columns</p>\n",
       "</div>"
      ],
      "text/plain": [
       "   docid  quid  feature_0  feature_1  feature_2  feature_3  feature_4  \\\n",
       "0      1  7968   0.000000        0.0        0.0        0.0   0.000000   \n",
       "1      2  7968   0.205882        0.0        0.0        0.0   0.205882   \n",
       "2      3  7968   0.000000        0.0        0.0        0.0   0.000000   \n",
       "3      4  7968   0.088235        0.0        0.0        0.0   0.088235   \n",
       "4      5  7968   0.558824        0.0        0.0        0.0   0.558824   \n",
       "\n",
       "   feature_5  feature_6  feature_7     ...      feature_36  feature_37  \\\n",
       "0        0.0        0.0        0.0     ...        0.000000    0.000000   \n",
       "1        0.0        0.0        0.0     ...        0.916516    0.686669   \n",
       "2        0.0        0.0        0.0     ...        0.000000    0.000000   \n",
       "3        0.0        0.0        0.0     ...        0.900721    0.789495   \n",
       "4        0.0        0.0        0.0     ...        0.557493    0.452582   \n",
       "\n",
       "   feature_38  feature_39  feature_40  feature_41  feature_42  feature_43  \\\n",
       "0    0.000000    0.000000    0.000000    0.000000    0.055556    0.000000   \n",
       "1    0.674704    0.708795    0.217889    0.272727    0.000000    0.333333   \n",
       "2    0.000000    0.000000    0.031069    0.090909    0.092593    0.500000   \n",
       "3    0.536695    0.789458    0.562992    0.045455    0.000000    0.666667   \n",
       "4    0.660139    0.389950    0.120613    0.772727    0.000000    0.500000   \n",
       "\n",
       "   feature_44  feature_45  \n",
       "0        0.00         0.0  \n",
       "1        0.42         0.0  \n",
       "2        0.68         0.0  \n",
       "3        0.86         0.0  \n",
       "4        0.46         0.0  \n",
       "\n",
       "[5 rows x 48 columns]"
      ]
     },
     "execution_count": 6,
     "metadata": {},
     "output_type": "execute_result"
    }
   ],
   "source": [
    "test_data = pd.read_csv('test.tsv', sep='\\t')\n",
    "test_data.head()"
   ]
  },
  {
   "cell_type": "code",
   "execution_count": 33,
   "metadata": {},
   "outputs": [
    {
     "data": {
      "text/plain": [
       "(33272, 48)"
      ]
     },
     "execution_count": 33,
     "metadata": {},
     "output_type": "execute_result"
    }
   ],
   "source": [
    "test_data.shape"
   ]
  },
  {
   "cell_type": "code",
   "execution_count": 9,
   "metadata": {},
   "outputs": [
    {
     "data": {
      "text/plain": [
       "array([   10,    15,    33, ..., 18211, 18214, 18218])"
      ]
     },
     "execution_count": 9,
     "metadata": {},
     "output_type": "execute_result"
    }
   ],
   "source": [
    "quids = train_data.quid.unique()\n",
    "quids"
   ]
  },
  {
   "cell_type": "code",
   "execution_count": 10,
   "metadata": {},
   "outputs": [],
   "source": [
    "from sklearn.model_selection import train_test_split\n",
    "\n",
    "train_quids, val_quids = train_test_split(quids, test_size=0.2)"
   ]
  },
  {
   "cell_type": "code",
   "execution_count": 12,
   "metadata": {},
   "outputs": [],
   "source": [
    "def DCG(ranks, p=10):\n",
    "    assert len(ranks) >= p\n",
    "    return np.sum(ranks[:p] / np.log2(np.arange(2, p + 2, 1)))\n",
    "\n",
    "def NDCG(ranks, p=10):\n",
    "    dcg = DCG(ranks, p)\n",
    "    idcg = DCG(sorted(ranks, reverse=True), p)\n",
    "    \n",
    "    return dcg / idcg"
   ]
  },
  {
   "cell_type": "code",
   "execution_count": 14,
   "metadata": {},
   "outputs": [],
   "source": [
    "def listnet(true, pred):\n",
    "    softmax_true = F.softmax(true, dim=-1)\n",
    "    softmax_pred = F.softmax(pred, dim=-1)\n",
    "    \n",
    "    return -torch.sum(softmax_true * torch.log(softmax_pred))"
   ]
  },
  {
   "cell_type": "code",
   "execution_count": 17,
   "metadata": {},
   "outputs": [],
   "source": [
    "class net(nn.Module):\n",
    "    def __init__(self):\n",
    "        super().__init__()\n",
    "        dense1 = nn.Linear(46, 92)\n",
    "        relu1 = nn.ReLU()\n",
    "        dense2 = nn.Linear(92, 46)\n",
    "        relu2 = nn.ReLU()\n",
    "        dense3 = nn.Linear(46, 23)\n",
    "        relu3 = nn.ReLU()\n",
    "        dense4 = nn.Linear(23, 10)\n",
    "        relu4 = nn.ReLU()\n",
    "        dense5 = nn.Linear(10, 1)\n",
    "        self.net = nn.Sequential(*[dense1, relu1, dense2, relu2,  dense3, relu3, dense4, relu4, dense5])\n",
    "        \n",
    "    def forward(self, X):\n",
    "        y = self.net(X)\n",
    "        return y.view(-1)"
   ]
  },
  {
   "cell_type": "code",
   "execution_count": 18,
   "metadata": {},
   "outputs": [],
   "source": [
    "model = net()\n",
    "model = model.cuda()"
   ]
  },
  {
   "cell_type": "code",
   "execution_count": 19,
   "metadata": {},
   "outputs": [],
   "source": [
    "opt = torch.optim.Adam(model.parameters(), lr=0.001)"
   ]
  },
  {
   "cell_type": "code",
   "execution_count": 20,
   "metadata": {},
   "outputs": [],
   "source": [
    "train_loss_history = []\n",
    "train_metric_history = []\n",
    "val_loss_history = []\n",
    "val_metric_history = []"
   ]
  },
  {
   "cell_type": "code",
   "execution_count": 21,
   "metadata": {},
   "outputs": [],
   "source": [
    "from tqdm import tqdm"
   ]
  },
  {
   "cell_type": "code",
   "execution_count": 26,
   "metadata": {},
   "outputs": [
    {
     "name": "stdout",
     "output_type": "stream",
     "text": [
      "Epoch 50 took 8.340704917907715 s\n"
     ]
    },
    {
     "data": {
      "image/png": "[encoded data removed]",
      "text/plain": [
       "<Figure size 1152x576 with 2 Axes>"
      ]
     },
     "metadata": {
      "needs_background": "light"
     },
     "output_type": "display_data"
    },
    {
     "name": "stderr",
     "output_type": "stream",
     "text": [
      "100%|██████████| 50/50 [07:08<00:00,  8.54s/it]\n"
     ]
    }
   ],
   "source": [
    "for n_epoch in tqdm(range(50)):\n",
    "    model.train()\n",
    "    np.random.shuffle(train_quids)\n",
    "    start = time.time()\n",
    "    cur_loss, cur_metric = 0, 0\n",
    "    cnt = 0\n",
    "    for quid in train_quids:\n",
    "        tmp = train_data.groupby('quid').get_group(quid)\n",
    "        y = torch.Tensor(tmp['rel'].values).cuda()\n",
    "        X = torch.Tensor(tmp[tmp.columns.delete((0, 1, 2))].values).cuda()\n",
    "        \n",
    "        pred = model(X)\n",
    "        loss = listnet(y, pred)\n",
    "        loss.backward()\n",
    "        cur_loss += loss.item()\n",
    "        opt.step()\n",
    "        opt.zero_grad()\n",
    "\n",
    "        if len(pred) >= 10:\n",
    "            cur_metric += NDCG(pred.detach().cpu().numpy())\n",
    "            cnt += 1\n",
    "    \n",
    "    train_loss_history.append(cur_loss / len(train_quids))\n",
    "    train_metric_history.append(cur_metric / cnt)\n",
    "    \n",
    "    model.eval()\n",
    "    cur_loss, cur_metric = 0, 0 \n",
    "    cnt = 0\n",
    "    for quid in val_quids:\n",
    "        tmp = train_data.groupby('quid').get_group(quid)\n",
    "        y = torch.Tensor(tmp['rel'].values).cuda()\n",
    "        X = torch.Tensor(tmp[tmp.columns.delete((0, 1, 2))].values).cuda()\n",
    "        \n",
    "        pred = model(X)\n",
    "        cur_loss += listnet(y, pred).item()\n",
    "        if len(pred) >= 10:\n",
    "            cur_metric += NDCG(pred.detach().cpu().numpy())\n",
    "            cnt += 1\n",
    "        \n",
    "    val_loss_history.append(cur_loss / len(val_quids))\n",
    "    val_metric_history.append(cur_metric / cnt)\n",
    "    \n",
    "    display.clear_output()\n",
    "    \n",
    "    print('Epoch {} took {} s'.format(n_epoch + 1, time.time() - start))\n",
    "    \n",
    "    plt.figure(figsize=(16, 8))\n",
    "    \n",
    "    plt.subplot(1, 2, 1)\n",
    "    plt.title('loss')\n",
    "    plt.plot(train_loss_history, label='train_loss')\n",
    "    plt.plot(val_loss_history, label='val_loss')\n",
    "    plt.legend()\n",
    "    \n",
    "    plt.subplot(1, 2, 2)\n",
    "    plt.title('NDCG_10')\n",
    "    plt.plot(train_metric_history, label='train_metric')\n",
    "    plt.plot(val_metric_history, label='val_metric')\n",
    "    plt.legend()\n",
    "    plt.show()"
   ]
  },
  {
   "cell_type": "code",
   "execution_count": null,
   "metadata": {},
   "outputs": [],
   "source": []
  },
  {
   "cell_type": "code",
   "execution_count": 27,
   "metadata": {},
   "outputs": [
    {
     "data": {
      "text/html": [
       "<div>\n",
       "<style scoped>\n",
       "    .dataframe tbody tr th:only-of-type {\n",
       "        vertical-align: middle;\n",
       "    }\n",
       "\n",
       "    .dataframe tbody tr th {\n",
       "        vertical-align: top;\n",
       "    }\n",
       "\n",
       "    .dataframe thead th {\n",
       "        text-align: right;\n",
       "    }\n",
       "</style>\n",
       "<table border=\"1\" class=\"dataframe\">\n",
       "  <thead>\n",
       "    <tr style=\"text-align: right;\">\n",
       "      <th></th>\n",
       "      <th>docid</th>\n",
       "      <th>quid</th>\n",
       "    </tr>\n",
       "  </thead>\n",
       "  <tbody>\n",
       "    <tr>\n",
       "      <th>0</th>\n",
       "      <td>1</td>\n",
       "      <td>7968</td>\n",
       "    </tr>\n",
       "    <tr>\n",
       "      <th>1</th>\n",
       "      <td>2</td>\n",
       "      <td>7968</td>\n",
       "    </tr>\n",
       "    <tr>\n",
       "      <th>2</th>\n",
       "      <td>3</td>\n",
       "      <td>7968</td>\n",
       "    </tr>\n",
       "    <tr>\n",
       "      <th>3</th>\n",
       "      <td>4</td>\n",
       "      <td>7968</td>\n",
       "    </tr>\n",
       "    <tr>\n",
       "      <th>4</th>\n",
       "      <td>5</td>\n",
       "      <td>7968</td>\n",
       "    </tr>\n",
       "  </tbody>\n",
       "</table>\n",
       "</div>"
      ],
      "text/plain": [
       "   docid  quid\n",
       "0      1  7968\n",
       "1      2  7968\n",
       "2      3  7968\n",
       "3      4  7968\n",
       "4      5  7968"
      ]
     },
     "execution_count": 27,
     "metadata": {},
     "output_type": "execute_result"
    }
   ],
   "source": [
    "sub = pd.read_csv('sample.csv')\n",
    "sub.head()"
   ]
  },
  {
   "cell_type": "code",
   "execution_count": 29,
   "metadata": {},
   "outputs": [],
   "source": [
    "model.eval()\n",
    "with torch.no_grad():\n",
    "    pred = model(torch.Tensor(test_data[test_data.columns.delete((0, 1))].values).cuda()).cpu().numpy()"
   ]
  },
  {
   "cell_type": "code",
   "execution_count": 30,
   "metadata": {},
   "outputs": [
    {
     "data": {
      "text/plain": [
       "(33272,)"
      ]
     },
     "execution_count": 30,
     "metadata": {},
     "output_type": "execute_result"
    }
   ],
   "source": [
    "pred.shape"
   ]
  },
  {
   "cell_type": "code",
   "execution_count": 35,
   "metadata": {},
   "outputs": [
    {
     "data": {
      "text/html": [
       "<div>\n",
       "<style scoped>\n",
       "    .dataframe tbody tr th:only-of-type {\n",
       "        vertical-align: middle;\n",
       "    }\n",
       "\n",
       "    .dataframe tbody tr th {\n",
       "        vertical-align: top;\n",
       "    }\n",
       "\n",
       "    .dataframe thead th {\n",
       "        text-align: right;\n",
       "    }\n",
       "</style>\n",
       "<table border=\"1\" class=\"dataframe\">\n",
       "  <thead>\n",
       "    <tr style=\"text-align: right;\">\n",
       "      <th></th>\n",
       "      <th>docid</th>\n",
       "      <th>quid</th>\n",
       "      <th>rank</th>\n",
       "    </tr>\n",
       "  </thead>\n",
       "  <tbody>\n",
       "    <tr>\n",
       "      <th>0</th>\n",
       "      <td>1</td>\n",
       "      <td>7968</td>\n",
       "      <td>26.385693</td>\n",
       "    </tr>\n",
       "    <tr>\n",
       "      <th>1</th>\n",
       "      <td>2</td>\n",
       "      <td>7968</td>\n",
       "      <td>26.777142</td>\n",
       "    </tr>\n",
       "    <tr>\n",
       "      <th>2</th>\n",
       "      <td>3</td>\n",
       "      <td>7968</td>\n",
       "      <td>26.502251</td>\n",
       "    </tr>\n",
       "    <tr>\n",
       "      <th>3</th>\n",
       "      <td>4</td>\n",
       "      <td>7968</td>\n",
       "      <td>26.572327</td>\n",
       "    </tr>\n",
       "    <tr>\n",
       "      <th>4</th>\n",
       "      <td>5</td>\n",
       "      <td>7968</td>\n",
       "      <td>26.846060</td>\n",
       "    </tr>\n",
       "  </tbody>\n",
       "</table>\n",
       "</div>"
      ],
      "text/plain": [
       "   docid  quid       rank\n",
       "0      1  7968  26.385693\n",
       "1      2  7968  26.777142\n",
       "2      3  7968  26.502251\n",
       "3      4  7968  26.572327\n",
       "4      5  7968  26.846060"
      ]
     },
     "execution_count": 35,
     "metadata": {},
     "output_type": "execute_result"
    }
   ],
   "source": [
    "sub.docid = test_data.docid\n",
    "sub.quid = test_data.quid\n",
    "sub['rank'] = pred\n",
    "sub.head()"
   ]
  },
  {
   "cell_type": "code",
   "execution_count": 36,
   "metadata": {},
   "outputs": [
    {
     "data": {
      "text/html": [
       "<div>\n",
       "<style scoped>\n",
       "    .dataframe tbody tr th:only-of-type {\n",
       "        vertical-align: middle;\n",
       "    }\n",
       "\n",
       "    .dataframe tbody tr th {\n",
       "        vertical-align: top;\n",
       "    }\n",
       "\n",
       "    .dataframe thead th {\n",
       "        text-align: right;\n",
       "    }\n",
       "</style>\n",
       "<table border=\"1\" class=\"dataframe\">\n",
       "  <thead>\n",
       "    <tr style=\"text-align: right;\">\n",
       "      <th></th>\n",
       "      <th>docid</th>\n",
       "      <th>quid</th>\n",
       "      <th>rank</th>\n",
       "    </tr>\n",
       "  </thead>\n",
       "  <tbody>\n",
       "    <tr>\n",
       "      <th>33265</th>\n",
       "      <td>33266</td>\n",
       "      <td>19997</td>\n",
       "      <td>27.629963</td>\n",
       "    </tr>\n",
       "    <tr>\n",
       "      <th>33270</th>\n",
       "      <td>33271</td>\n",
       "      <td>19997</td>\n",
       "      <td>27.162045</td>\n",
       "    </tr>\n",
       "    <tr>\n",
       "      <th>33266</th>\n",
       "      <td>33267</td>\n",
       "      <td>19997</td>\n",
       "      <td>26.831520</td>\n",
       "    </tr>\n",
       "    <tr>\n",
       "      <th>33268</th>\n",
       "      <td>33269</td>\n",
       "      <td>19997</td>\n",
       "      <td>26.597721</td>\n",
       "    </tr>\n",
       "    <tr>\n",
       "      <th>33269</th>\n",
       "      <td>33270</td>\n",
       "      <td>19997</td>\n",
       "      <td>26.569139</td>\n",
       "    </tr>\n",
       "  </tbody>\n",
       "</table>\n",
       "</div>"
      ],
      "text/plain": [
       "       docid   quid       rank\n",
       "33265  33266  19997  27.629963\n",
       "33270  33271  19997  27.162045\n",
       "33266  33267  19997  26.831520\n",
       "33268  33269  19997  26.597721\n",
       "33269  33270  19997  26.569139"
      ]
     },
     "execution_count": 36,
     "metadata": {},
     "output_type": "execute_result"
    }
   ],
   "source": [
    "sub.sort_values(['quid', 'rank'], ascending=False, inplace=True)\n",
    "sub.head()"
   ]
  },
  {
   "cell_type": "code",
   "execution_count": 37,
   "metadata": {},
   "outputs": [],
   "source": [
    "sub.to_csv('my_sub.csv', index=False, columns=['docid', 'quid'])"
   ]
  },
  {
   "cell_type": "markdown",
   "metadata": {},
   "source": [
    "\n",
    "попробуем другую сеть"
   ]
  },
  {
   "cell_type": "code",
   "execution_count": null,
   "metadata": {},
   "outputs": [],
   "source": []
  },
  {
   "cell_type": "code",
   "execution_count": 38,
   "metadata": {},
   "outputs": [],
   "source": [
    "class net(nn.Module):\n",
    "    def __init__(self):\n",
    "        super().__init__()\n",
    "        layers = [\n",
    "            nn.Dropout(0.1),\n",
    "            nn.Linear(46, 92),\n",
    "            nn.BatchNorm1d(92),\n",
    "            nn.LeakyReLU(),\n",
    "            nn.Dropout(0.2),\n",
    "            nn.Linear(92, 46),\n",
    "            nn.BatchNorm1d(46),\n",
    "            nn.LeakyReLU(),\n",
    "            nn.Dropout(0.2),\n",
    "            nn.Linear(46, 23),\n",
    "            nn.BatchNorm1d(23),\n",
    "            nn.LeakyReLU(),\n",
    "            nn.Dropout(0.2),\n",
    "            nn.Linear(23, 10),\n",
    "            nn.BatchNorm1d(10),\n",
    "            nn.LeakyReLU(),\n",
    "            nn.Dropout(0.1),\n",
    "            nn.Linear(10, 1)\n",
    "        ]\n",
    "        self.net = nn.Sequential(*layers)\n",
    "        \n",
    "    def forward(self, X):\n",
    "        y = self.net(X)\n",
    "        return y.view(-1)"
   ]
  },
  {
   "cell_type": "code",
   "execution_count": 39,
   "metadata": {},
   "outputs": [],
   "source": [
    "model = net()\n",
    "model = model.cuda()"
   ]
  },
  {
   "cell_type": "code",
   "execution_count": 40,
   "metadata": {},
   "outputs": [],
   "source": [
    "opt = torch.optim.Adam(model.parameters(), lr=0.001)"
   ]
  },
  {
   "cell_type": "code",
   "execution_count": 41,
   "metadata": {},
   "outputs": [],
   "source": [
    "train_loss_history = []\n",
    "train_metric_history = []\n",
    "val_loss_history = []\n",
    "val_metric_history = []"
   ]
  },
  {
   "cell_type": "code",
   "execution_count": 42,
   "metadata": {},
   "outputs": [],
   "source": [
    "from tqdm import tqdm"
   ]
  },
  {
   "cell_type": "code",
   "execution_count": 43,
   "metadata": {},
   "outputs": [
    {
     "name": "stdout",
     "output_type": "stream",
     "text": [
      "Epoch 50 took 11.621330261230469 s\n"
     ]
    },
    {
     "data": {
      "image/png": "[encoded data removed]",
      "text/plain": [
       "<Figure size 1152x576 with 2 Axes>"
      ]
     },
     "metadata": {
      "needs_background": "light"
     },
     "output_type": "display_data"
    },
    {
     "name": "stderr",
     "output_type": "stream",
     "text": [
      "100%|██████████| 50/50 [09:49<00:00, 11.71s/it]\n"
     ]
    }
   ],
   "source": [
    "for n_epoch in tqdm(range(50)):\n",
    "    model.train()\n",
    "    np.random.shuffle(train_quids)\n",
    "    start = time.time()\n",
    "    cur_loss, cur_metric = 0, 0\n",
    "    cnt = 0\n",
    "    for quid in train_quids:\n",
    "        tmp = train_data.groupby('quid').get_group(quid)\n",
    "        y = torch.Tensor(tmp['rel'].values).cuda()\n",
    "        X = torch.Tensor(tmp[tmp.columns.delete((0, 1, 2))].values).cuda()\n",
    "        \n",
    "        pred = model(X)\n",
    "        loss = listnet(y, pred)\n",
    "        loss.backward()\n",
    "        cur_loss += loss.item()\n",
    "        opt.step()\n",
    "        opt.zero_grad()\n",
    "\n",
    "        if len(pred) >= 10:\n",
    "            cur_metric += NDCG(pred.detach().cpu().numpy())\n",
    "            cnt += 1\n",
    "    \n",
    "    train_loss_history.append(cur_loss / len(train_quids))\n",
    "    train_metric_history.append(cur_metric / cnt)\n",
    "    \n",
    "    model.eval()\n",
    "    cur_loss, cur_metric = 0, 0 \n",
    "    cnt = 0\n",
    "    for quid in val_quids:\n",
    "        tmp = train_data.groupby('quid').get_group(quid)\n",
    "        y = torch.Tensor(tmp['rel'].values).cuda()\n",
    "        X = torch.Tensor(tmp[tmp.columns.delete((0, 1, 2))].values).cuda()\n",
    "        \n",
    "        pred = model(X)\n",
    "        cur_loss += listnet(y, pred).item()\n",
    "        if len(pred) >= 10:\n",
    "            cur_metric += NDCG(pred.detach().cpu().numpy())\n",
    "            cnt += 1\n",
    "        \n",
    "    val_loss_history.append(cur_loss / len(val_quids))\n",
    "    val_metric_history.append(cur_metric / cnt)\n",
    "    \n",
    "    display.clear_output()\n",
    "    \n",
    "    print('Epoch {} took {} s'.format(n_epoch + 1, time.time() - start))\n",
    "    \n",
    "    plt.figure(figsize=(16, 8))\n",
    "    \n",
    "    plt.subplot(1, 2, 1)\n",
    "    plt.title('loss')\n",
    "    plt.plot(train_loss_history, label='train_loss')\n",
    "    plt.plot(val_loss_history, label='val_loss')\n",
    "    plt.legend()\n",
    "    \n",
    "    plt.subplot(1, 2, 2)\n",
    "    plt.title('NDCG_10')\n",
    "    plt.plot(train_metric_history, label='train_metric')\n",
    "    plt.plot(val_metric_history, label='val_metric')\n",
    "    plt.legend()\n",
    "    plt.show()"
   ]
  },
  {
   "cell_type": "code",
   "execution_count": null,
   "metadata": {},
   "outputs": [],
   "source": []
  },
  {
   "cell_type": "code",
   "execution_count": 44,
   "metadata": {},
   "outputs": [],
   "source": [
    "model.eval()\n",
    "with torch.no_grad():\n",
    "    pred = model(torch.Tensor(test_data[test_data.columns.delete((0, 1))].values).cuda()).cpu().numpy()"
   ]
  },
  {
   "cell_type": "code",
   "execution_count": 45,
   "metadata": {},
   "outputs": [
    {
     "data": {
      "text/plain": [
       "(33272,)"
      ]
     },
     "execution_count": 45,
     "metadata": {},
     "output_type": "execute_result"
    }
   ],
   "source": [
    "pred.shape"
   ]
  },
  {
   "cell_type": "code",
   "execution_count": 46,
   "metadata": {},
   "outputs": [
    {
     "data": {
      "text/html": [
       "<div>\n",
       "<style scoped>\n",
       "    .dataframe tbody tr th:only-of-type {\n",
       "        vertical-align: middle;\n",
       "    }\n",
       "\n",
       "    .dataframe tbody tr th {\n",
       "        vertical-align: top;\n",
       "    }\n",
       "\n",
       "    .dataframe thead th {\n",
       "        text-align: right;\n",
       "    }\n",
       "</style>\n",
       "<table border=\"1\" class=\"dataframe\">\n",
       "  <thead>\n",
       "    <tr style=\"text-align: right;\">\n",
       "      <th></th>\n",
       "      <th>docid</th>\n",
       "      <th>quid</th>\n",
       "      <th>rank</th>\n",
       "    </tr>\n",
       "  </thead>\n",
       "  <tbody>\n",
       "    <tr>\n",
       "      <th>33265</th>\n",
       "      <td>33266</td>\n",
       "      <td>19997</td>\n",
       "      <td>17.212793</td>\n",
       "    </tr>\n",
       "    <tr>\n",
       "      <th>33270</th>\n",
       "      <td>33271</td>\n",
       "      <td>19997</td>\n",
       "      <td>17.448172</td>\n",
       "    </tr>\n",
       "    <tr>\n",
       "      <th>33266</th>\n",
       "      <td>33267</td>\n",
       "      <td>19997</td>\n",
       "      <td>17.181961</td>\n",
       "    </tr>\n",
       "    <tr>\n",
       "      <th>33268</th>\n",
       "      <td>33269</td>\n",
       "      <td>19997</td>\n",
       "      <td>17.365171</td>\n",
       "    </tr>\n",
       "    <tr>\n",
       "      <th>33269</th>\n",
       "      <td>33270</td>\n",
       "      <td>19997</td>\n",
       "      <td>17.423561</td>\n",
       "    </tr>\n",
       "  </tbody>\n",
       "</table>\n",
       "</div>"
      ],
      "text/plain": [
       "       docid   quid       rank\n",
       "33265  33266  19997  17.212793\n",
       "33270  33271  19997  17.448172\n",
       "33266  33267  19997  17.181961\n",
       "33268  33269  19997  17.365171\n",
       "33269  33270  19997  17.423561"
      ]
     },
     "execution_count": 46,
     "metadata": {},
     "output_type": "execute_result"
    }
   ],
   "source": [
    "sub.docid = test_data.docid\n",
    "sub.quid = test_data.quid\n",
    "sub['rank'] = pred\n",
    "sub.head()"
   ]
  },
  {
   "cell_type": "code",
   "execution_count": 47,
   "metadata": {},
   "outputs": [
    {
     "data": {
      "text/html": [
       "<div>\n",
       "<style scoped>\n",
       "    .dataframe tbody tr th:only-of-type {\n",
       "        vertical-align: middle;\n",
       "    }\n",
       "\n",
       "    .dataframe tbody tr th {\n",
       "        vertical-align: top;\n",
       "    }\n",
       "\n",
       "    .dataframe thead th {\n",
       "        text-align: right;\n",
       "    }\n",
       "</style>\n",
       "<table border=\"1\" class=\"dataframe\">\n",
       "  <thead>\n",
       "    <tr style=\"text-align: right;\">\n",
       "      <th></th>\n",
       "      <th>docid</th>\n",
       "      <th>quid</th>\n",
       "      <th>rank</th>\n",
       "    </tr>\n",
       "  </thead>\n",
       "  <tbody>\n",
       "    <tr>\n",
       "      <th>33267</th>\n",
       "      <td>33268</td>\n",
       "      <td>19997</td>\n",
       "      <td>17.468311</td>\n",
       "    </tr>\n",
       "    <tr>\n",
       "      <th>33270</th>\n",
       "      <td>33271</td>\n",
       "      <td>19997</td>\n",
       "      <td>17.448172</td>\n",
       "    </tr>\n",
       "    <tr>\n",
       "      <th>33269</th>\n",
       "      <td>33270</td>\n",
       "      <td>19997</td>\n",
       "      <td>17.423561</td>\n",
       "    </tr>\n",
       "    <tr>\n",
       "      <th>33268</th>\n",
       "      <td>33269</td>\n",
       "      <td>19997</td>\n",
       "      <td>17.365171</td>\n",
       "    </tr>\n",
       "    <tr>\n",
       "      <th>33271</th>\n",
       "      <td>33272</td>\n",
       "      <td>19997</td>\n",
       "      <td>17.301125</td>\n",
       "    </tr>\n",
       "  </tbody>\n",
       "</table>\n",
       "</div>"
      ],
      "text/plain": [
       "       docid   quid       rank\n",
       "33267  33268  19997  17.468311\n",
       "33270  33271  19997  17.448172\n",
       "33269  33270  19997  17.423561\n",
       "33268  33269  19997  17.365171\n",
       "33271  33272  19997  17.301125"
      ]
     },
     "execution_count": 47,
     "metadata": {},
     "output_type": "execute_result"
    }
   ],
   "source": [
    "sub.sort_values(['quid', 'rank'], ascending=False, inplace=True)\n",
    "sub.head()"
   ]
  },
  {
   "cell_type": "code",
   "execution_count": 48,
   "metadata": {},
   "outputs": [],
   "source": [
    "sub.to_csv('my_sub_2.csv', index=False, columns=['docid', 'quid'])"
   ]
  },
  {
   "cell_type": "code",
   "execution_count": null,
   "metadata": {},
   "outputs": [],
   "source": []
  },
  {
   "cell_type": "markdown",
   "metadata": {},
   "source": [
    "третья попытка"
   ]
  },
  {
   "cell_type": "code",
   "execution_count": null,
   "metadata": {},
   "outputs": [],
   "source": []
  },
  {
   "cell_type": "code",
   "execution_count": 49,
   "metadata": {},
   "outputs": [],
   "source": [
    "class net(nn.Module):\n",
    "    def __init__(self):\n",
    "        super().__init__()\n",
    "        layers = [\n",
    "            nn.Dropout(0.1),\n",
    "            nn.Linear(46, 23),\n",
    "            nn.LeakyReLU(),\n",
    "            nn.Dropout(0.2),\n",
    "            nn.Linear(23, 10),\n",
    "            nn.LeakyReLU(),\n",
    "            nn.Dropout(0.2),\n",
    "            nn.Linear(10, 5),\n",
    "            nn.LeakyReLU(),\n",
    "            nn.Dropout(0.1),\n",
    "            nn.Linear(5, 1)\n",
    "        ]\n",
    "        self.net = nn.Sequential(*layers)\n",
    "        \n",
    "    def forward(self, X):\n",
    "        y = self.net(X)\n",
    "        return y.view(-1)"
   ]
  },
  {
   "cell_type": "code",
   "execution_count": 50,
   "metadata": {},
   "outputs": [],
   "source": [
    "model = net()\n",
    "model = model.cuda()"
   ]
  },
  {
   "cell_type": "code",
   "execution_count": 51,
   "metadata": {},
   "outputs": [],
   "source": [
    "opt = torch.optim.Adam(model.parameters(), lr=0.001)"
   ]
  },
  {
   "cell_type": "code",
   "execution_count": 52,
   "metadata": {},
   "outputs": [],
   "source": [
    "train_loss_history = []\n",
    "train_metric_history = []\n",
    "val_loss_history = []\n",
    "val_metric_history = []"
   ]
  },
  {
   "cell_type": "code",
   "execution_count": 53,
   "metadata": {},
   "outputs": [],
   "source": [
    "from tqdm import tqdm"
   ]
  },
  {
   "cell_type": "code",
   "execution_count": 54,
   "metadata": {},
   "outputs": [
    {
     "name": "stdout",
     "output_type": "stream",
     "text": [
      "Epoch 50 took 8.111164093017578 s\n"
     ]
    },
    {
     "data": {
      "image/png": "[encoded data removed]",
      "text/plain": [
       "<Figure size 1152x576 with 2 Axes>"
      ]
     },
     "metadata": {
      "needs_background": "light"
     },
     "output_type": "display_data"
    },
    {
     "name": "stderr",
     "output_type": "stream",
     "text": [
      "100%|██████████| 50/50 [06:57<00:00,  8.35s/it]\n"
     ]
    }
   ],
   "source": [
    "for n_epoch in tqdm(range(50)):\n",
    "    model.train()\n",
    "    np.random.shuffle(train_quids)\n",
    "    start = time.time()\n",
    "    cur_loss, cur_metric = 0, 0\n",
    "    cnt = 0\n",
    "    for quid in train_quids:\n",
    "        tmp = train_data.groupby('quid').get_group(quid)\n",
    "        y = torch.Tensor(tmp['rel'].values).cuda()\n",
    "        X = torch.Tensor(tmp[tmp.columns.delete((0, 1, 2))].values).cuda()\n",
    "        \n",
    "        pred = model(X)\n",
    "        loss = listnet(y, pred)\n",
    "        loss.backward()\n",
    "        cur_loss += loss.item()\n",
    "        opt.step()\n",
    "        opt.zero_grad()\n",
    "\n",
    "        if len(pred) >= 10:\n",
    "            cur_metric += NDCG(pred.detach().cpu().numpy())\n",
    "            cnt += 1\n",
    "    \n",
    "    train_loss_history.append(cur_loss / len(train_quids))\n",
    "    train_metric_history.append(cur_metric / cnt)\n",
    "    \n",
    "    model.eval()\n",
    "    cur_loss, cur_metric = 0, 0 \n",
    "    cnt = 0\n",
    "    for quid in val_quids:\n",
    "        tmp = train_data.groupby('quid').get_group(quid)\n",
    "        y = torch.Tensor(tmp['rel'].values).cuda()\n",
    "        X = torch.Tensor(tmp[tmp.columns.delete((0, 1, 2))].values).cuda()\n",
    "        \n",
    "        pred = model(X)\n",
    "        cur_loss += listnet(y, pred).item()\n",
    "        if len(pred) >= 10:\n",
    "            cur_metric += NDCG(pred.detach().cpu().numpy())\n",
    "            cnt += 1\n",
    "        \n",
    "    val_loss_history.append(cur_loss / len(val_quids))\n",
    "    val_metric_history.append(cur_metric / cnt)\n",
    "    \n",
    "    display.clear_output()\n",
    "    \n",
    "    print('Epoch {} took {} s'.format(n_epoch + 1, time.time() - start))\n",
    "    \n",
    "    plt.figure(figsize=(16, 8))\n",
    "    \n",
    "    plt.subplot(1, 2, 1)\n",
    "    plt.title('loss')\n",
    "    plt.plot(train_loss_history, label='train_loss')\n",
    "    plt.plot(val_loss_history, label='val_loss')\n",
    "    plt.legend()\n",
    "    \n",
    "    plt.subplot(1, 2, 2)\n",
    "    plt.title('NDCG_10')\n",
    "    plt.plot(train_metric_history, label='train_metric')\n",
    "    plt.plot(val_metric_history, label='val_metric')\n",
    "    plt.legend()\n",
    "    plt.show()"
   ]
  },
  {
   "cell_type": "code",
   "execution_count": null,
   "metadata": {},
   "outputs": [],
   "source": []
  },
  {
   "cell_type": "code",
   "execution_count": 55,
   "metadata": {},
   "outputs": [],
   "source": [
    "model.eval()\n",
    "with torch.no_grad():\n",
    "    pred = model(torch.Tensor(test_data[test_data.columns.delete((0, 1))].values).cuda()).cpu().numpy()"
   ]
  },
  {
   "cell_type": "code",
   "execution_count": 56,
   "metadata": {},
   "outputs": [
    {
     "data": {
      "text/plain": [
       "(33272,)"
      ]
     },
     "execution_count": 56,
     "metadata": {},
     "output_type": "execute_result"
    }
   ],
   "source": [
    "pred.shape"
   ]
  },
  {
   "cell_type": "code",
   "execution_count": 57,
   "metadata": {},
   "outputs": [
    {
     "data": {
      "text/html": [
       "<div>\n",
       "<style scoped>\n",
       "    .dataframe tbody tr th:only-of-type {\n",
       "        vertical-align: middle;\n",
       "    }\n",
       "\n",
       "    .dataframe tbody tr th {\n",
       "        vertical-align: top;\n",
       "    }\n",
       "\n",
       "    .dataframe thead th {\n",
       "        text-align: right;\n",
       "    }\n",
       "</style>\n",
       "<table border=\"1\" class=\"dataframe\">\n",
       "  <thead>\n",
       "    <tr style=\"text-align: right;\">\n",
       "      <th></th>\n",
       "      <th>docid</th>\n",
       "      <th>quid</th>\n",
       "      <th>rank</th>\n",
       "    </tr>\n",
       "  </thead>\n",
       "  <tbody>\n",
       "    <tr>\n",
       "      <th>33267</th>\n",
       "      <td>33268</td>\n",
       "      <td>19997</td>\n",
       "      <td>16.998421</td>\n",
       "    </tr>\n",
       "    <tr>\n",
       "      <th>33270</th>\n",
       "      <td>33271</td>\n",
       "      <td>19997</td>\n",
       "      <td>17.305784</td>\n",
       "    </tr>\n",
       "    <tr>\n",
       "      <th>33269</th>\n",
       "      <td>33270</td>\n",
       "      <td>19997</td>\n",
       "      <td>17.044573</td>\n",
       "    </tr>\n",
       "    <tr>\n",
       "      <th>33268</th>\n",
       "      <td>33269</td>\n",
       "      <td>19997</td>\n",
       "      <td>17.264500</td>\n",
       "    </tr>\n",
       "    <tr>\n",
       "      <th>33271</th>\n",
       "      <td>33272</td>\n",
       "      <td>19997</td>\n",
       "      <td>17.284092</td>\n",
       "    </tr>\n",
       "  </tbody>\n",
       "</table>\n",
       "</div>"
      ],
      "text/plain": [
       "       docid   quid       rank\n",
       "33267  33268  19997  16.998421\n",
       "33270  33271  19997  17.305784\n",
       "33269  33270  19997  17.044573\n",
       "33268  33269  19997  17.264500\n",
       "33271  33272  19997  17.284092"
      ]
     },
     "execution_count": 57,
     "metadata": {},
     "output_type": "execute_result"
    }
   ],
   "source": [
    "sub.docid = test_data.docid\n",
    "sub.quid = test_data.quid\n",
    "sub['rank'] = pred\n",
    "sub.head()"
   ]
  },
  {
   "cell_type": "code",
   "execution_count": 58,
   "metadata": {},
   "outputs": [
    {
     "data": {
      "text/html": [
       "<div>\n",
       "<style scoped>\n",
       "    .dataframe tbody tr th:only-of-type {\n",
       "        vertical-align: middle;\n",
       "    }\n",
       "\n",
       "    .dataframe tbody tr th {\n",
       "        vertical-align: top;\n",
       "    }\n",
       "\n",
       "    .dataframe thead th {\n",
       "        text-align: right;\n",
       "    }\n",
       "</style>\n",
       "<table border=\"1\" class=\"dataframe\">\n",
       "  <thead>\n",
       "    <tr style=\"text-align: right;\">\n",
       "      <th></th>\n",
       "      <th>docid</th>\n",
       "      <th>quid</th>\n",
       "      <th>rank</th>\n",
       "    </tr>\n",
       "  </thead>\n",
       "  <tbody>\n",
       "    <tr>\n",
       "      <th>33270</th>\n",
       "      <td>33271</td>\n",
       "      <td>19997</td>\n",
       "      <td>17.305784</td>\n",
       "    </tr>\n",
       "    <tr>\n",
       "      <th>33266</th>\n",
       "      <td>33267</td>\n",
       "      <td>19997</td>\n",
       "      <td>17.294527</td>\n",
       "    </tr>\n",
       "    <tr>\n",
       "      <th>33271</th>\n",
       "      <td>33272</td>\n",
       "      <td>19997</td>\n",
       "      <td>17.284092</td>\n",
       "    </tr>\n",
       "    <tr>\n",
       "      <th>33268</th>\n",
       "      <td>33269</td>\n",
       "      <td>19997</td>\n",
       "      <td>17.264500</td>\n",
       "    </tr>\n",
       "    <tr>\n",
       "      <th>33265</th>\n",
       "      <td>33266</td>\n",
       "      <td>19997</td>\n",
       "      <td>17.149933</td>\n",
       "    </tr>\n",
       "  </tbody>\n",
       "</table>\n",
       "</div>"
      ],
      "text/plain": [
       "       docid   quid       rank\n",
       "33270  33271  19997  17.305784\n",
       "33266  33267  19997  17.294527\n",
       "33271  33272  19997  17.284092\n",
       "33268  33269  19997  17.264500\n",
       "33265  33266  19997  17.149933"
      ]
     },
     "execution_count": 58,
     "metadata": {},
     "output_type": "execute_result"
    }
   ],
   "source": [
    "sub.sort_values(['quid', 'rank'], ascending=False, inplace=True)\n",
    "sub.head()"
   ]
  },
  {
   "cell_type": "code",
   "execution_count": 59,
   "metadata": {},
   "outputs": [],
   "source": [
    "sub.to_csv('my_sub_3.csv', index=False, columns=['docid', 'quid'])"
   ]
  },
  {
   "cell_type": "code",
   "execution_count": null,
   "metadata": {},
   "outputs": [],
   "source": []
  }
 ],
 "metadata": {
  "kernelspec": {
   "display_name": "Python 3",
   "language": "python",
   "name": "python3"
  },
  "language_info": {
   "codemirror_mode": {
    "name": "ipython",
    "version": 3
   },
   "file_extension": ".py",
   "mimetype": "text/x-python",
   "name": "python",
   "nbconvert_exporter": "python",
   "pygments_lexer": "ipython3",
   "version": "3.6.6"
  }
 },
 "nbformat": 4,
 "nbformat_minor": 2
}
