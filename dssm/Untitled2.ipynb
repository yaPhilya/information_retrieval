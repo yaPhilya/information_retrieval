{
  "nbformat": 4,
  "nbformat_minor": 0,
  "metadata": {
    "colab": {
      "name": "Untitled2.ipynb",
      "version": "0.3.2",
      "provenance": []
    },
    "kernelspec": {
      "name": "python3",
      "display_name": "Python 3"
    },
    "accelerator": "GPU"
  },
  "cells": [
    {
      "metadata": {
        "id": "9GA3oTxLnNQS",
        "colab_type": "code",
        "colab": {}
      },
      "cell_type": "code",
      "source": [
        "import numpy as np\n",
        "import pandas as pd\n",
        "import matplotlib.pyplot as plt\n",
        "import torch\n",
        "import torchvision\n",
        "import torch.nn as nn\n",
        "import torch.nn.functional as F\n",
        "import torchsummary\n",
        "import re"
      ],
      "execution_count": 0,
      "outputs": []
    },
    {
      "metadata": {
        "id": "mlkUWjVJo2-H",
        "colab_type": "code",
        "outputId": "ad71b843-51d7-4819-b785-ddb3931a67f1",
        "colab": {
          "base_uri": "https://localhost:8080/",
          "height": 204
        }
      },
      "cell_type": "code",
      "source": [
        "data = pd.read_csv('req_ans_learn.tsv', sep='\\t', names=['query', 'doc'])\n",
        "data.head()"
      ],
      "execution_count": 0,
      "outputs": [
        {
          "output_type": "execute_result",
          "data": {
            "text/html": [
              "<div>\n",
              "<style scoped>\n",
              "    .dataframe tbody tr th:only-of-type {\n",
              "        vertical-align: middle;\n",
              "    }\n",
              "\n",
              "    .dataframe tbody tr th {\n",
              "        vertical-align: top;\n",
              "    }\n",
              "\n",
              "    .dataframe thead th {\n",
              "        text-align: right;\n",
              "    }\n",
              "</style>\n",
              "<table border=\"1\" class=\"dataframe\">\n",
              "  <thead>\n",
              "    <tr style=\"text-align: right;\">\n",
              "      <th></th>\n",
              "      <th>query</th>\n",
              "      <th>doc</th>\n",
              "    </tr>\n",
              "  </thead>\n",
              "  <tbody>\n",
              "    <tr>\n",
              "      <th>0</th>\n",
              "      <td>麒麟倶楽部</td>\n",
              "      <td>/wiki/Qilin</td>\n",
              "    </tr>\n",
              "    <tr>\n",
              "      <th>1</th>\n",
              "      <td>data integrity что это</td>\n",
              "      <td>/wiki/Data_integrity</td>\n",
              "    </tr>\n",
              "    <tr>\n",
              "      <th>2</th>\n",
              "      <td>a harmonious rejuvenation Add to your retreat ...</td>\n",
              "      <td>/wiki/Balmoral_Castle</td>\n",
              "    </tr>\n",
              "    <tr>\n",
              "      <th>3</th>\n",
              "      <td>Can Can</td>\n",
              "      <td>/wiki/Can-can</td>\n",
              "    </tr>\n",
              "    <tr>\n",
              "      <th>4</th>\n",
              "      <td>all the quiet</td>\n",
              "      <td>/wiki/All_Quiet_on_the_Western_Front</td>\n",
              "    </tr>\n",
              "  </tbody>\n",
              "</table>\n",
              "</div>"
            ],
            "text/plain": [
              "                                               query  \\\n",
              "0                                              麒麟倶楽部   \n",
              "1                             data integrity что это   \n",
              "2  a harmonious rejuvenation Add to your retreat ...   \n",
              "3                                            Can Can   \n",
              "4                                      all the quiet   \n",
              "\n",
              "                                    doc  \n",
              "0                           /wiki/Qilin  \n",
              "1                  /wiki/Data_integrity  \n",
              "2                 /wiki/Balmoral_Castle  \n",
              "3                         /wiki/Can-can  \n",
              "4  /wiki/All_Quiet_on_the_Western_Front  "
            ]
          },
          "metadata": {
            "tags": []
          },
          "execution_count": 2
        }
      ]
    },
    {
      "metadata": {
        "id": "coeyJac75Dj9",
        "colab_type": "code",
        "outputId": "0707f7c7-de26-439a-cde8-402e68c65e20",
        "colab": {
          "base_uri": "https://localhost:8080/",
          "height": 204
        }
      },
      "cell_type": "code",
      "source": [
        "test_data = pd.read_csv('req_ans_test_no_url.tsv', names=['query'])\n",
        "test_data.head()"
      ],
      "execution_count": 0,
      "outputs": [
        {
          "output_type": "execute_result",
          "data": {
            "text/html": [
              "<div>\n",
              "<style scoped>\n",
              "    .dataframe tbody tr th:only-of-type {\n",
              "        vertical-align: middle;\n",
              "    }\n",
              "\n",
              "    .dataframe tbody tr th {\n",
              "        vertical-align: top;\n",
              "    }\n",
              "\n",
              "    .dataframe thead th {\n",
              "        text-align: right;\n",
              "    }\n",
              "</style>\n",
              "<table border=\"1\" class=\"dataframe\">\n",
              "  <thead>\n",
              "    <tr style=\"text-align: right;\">\n",
              "      <th></th>\n",
              "      <th>query</th>\n",
              "    </tr>\n",
              "  </thead>\n",
              "  <tbody>\n",
              "    <tr>\n",
              "      <th>0</th>\n",
              "      <td>there are two rivers in the city: the Selenga</td>\n",
              "    </tr>\n",
              "    <tr>\n",
              "      <th>1</th>\n",
              "      <td>biriani spice</td>\n",
              "    </tr>\n",
              "    <tr>\n",
              "      <th>2</th>\n",
              "      <td>бернли команда</td>\n",
              "    </tr>\n",
              "    <tr>\n",
              "      <th>3</th>\n",
              "      <td>he 114</td>\n",
              "    </tr>\n",
              "    <tr>\n",
              "      <th>4</th>\n",
              "      <td>википедия про мегатрона из кино 3 википедия</td>\n",
              "    </tr>\n",
              "  </tbody>\n",
              "</table>\n",
              "</div>"
            ],
            "text/plain": [
              "                                           query\n",
              "0  there are two rivers in the city: the Selenga\n",
              "1                                  biriani spice\n",
              "2                                 бернли команда\n",
              "3                                         he 114\n",
              "4    википедия про мегатрона из кино 3 википедия"
            ]
          },
          "metadata": {
            "tags": []
          },
          "execution_count": 3
        }
      ]
    },
    {
      "metadata": {
        "id": "h9XMVJVdpkXr",
        "colab_type": "code",
        "outputId": "7f271311-425f-4dcc-c1d0-beb6f1de7a2b",
        "colab": {
          "base_uri": "https://localhost:8080/",
          "height": 34
        }
      },
      "cell_type": "code",
      "source": [
        "data.shape"
      ],
      "execution_count": 0,
      "outputs": [
        {
          "output_type": "execute_result",
          "data": {
            "text/plain": [
              "(491044, 2)"
            ]
          },
          "metadata": {
            "tags": []
          },
          "execution_count": 4
        }
      ]
    },
    {
      "metadata": {
        "id": "M_x_jg7o7Cpt",
        "colab_type": "code",
        "outputId": "10fa8856-d960-43a3-a25b-14417f38ffb2",
        "colab": {
          "base_uri": "https://localhost:8080/",
          "height": 34
        }
      },
      "cell_type": "code",
      "source": [
        "test_data.shape"
      ],
      "execution_count": 0,
      "outputs": [
        {
          "output_type": "execute_result",
          "data": {
            "text/plain": [
              "(137986, 1)"
            ]
          },
          "metadata": {
            "tags": []
          },
          "execution_count": 5
        }
      ]
    },
    {
      "metadata": {
        "id": "RsBPxrHkpp3l",
        "colab_type": "code",
        "outputId": "add4ed00-2aaf-4806-8eac-d340b4977efd",
        "colab": {
          "base_uri": "https://localhost:8080/",
          "height": 136
        }
      },
      "cell_type": "code",
      "source": [
        "data.info()"
      ],
      "execution_count": 0,
      "outputs": [
        {
          "output_type": "stream",
          "text": [
            "<class 'pandas.core.frame.DataFrame'>\n",
            "RangeIndex: 491044 entries, 0 to 491043\n",
            "Data columns (total 2 columns):\n",
            "query    491042 non-null object\n",
            "doc      491044 non-null object\n",
            "dtypes: object(2)\n",
            "memory usage: 7.5+ MB\n"
          ],
          "name": "stdout"
        }
      ]
    },
    {
      "metadata": {
        "id": "Egy32xbp4jMk",
        "colab_type": "code",
        "outputId": "099f5860-586e-4951-c3ea-11df94ae5e01",
        "colab": {
          "base_uri": "https://localhost:8080/",
          "height": 34
        }
      },
      "cell_type": "code",
      "source": [
        "original_doc = data.doc.unique()\n",
        "original_doc.shape"
      ],
      "execution_count": 0,
      "outputs": [
        {
          "output_type": "execute_result",
          "data": {
            "text/plain": [
              "(66060,)"
            ]
          },
          "metadata": {
            "tags": []
          },
          "execution_count": 7
        }
      ]
    },
    {
      "metadata": {
        "id": "KgJsQYwN4jwe",
        "colab_type": "code",
        "colab": {}
      },
      "cell_type": "code",
      "source": [
        "def process_string(string):\n",
        "    s = \" \".join(re.sub('[^a-zA-Zа-яА-ЯёЁ0-9]+', ' ', string.lower()).split()).lower()\n",
        "    return s if s != \"\" else None"
      ],
      "execution_count": 0,
      "outputs": []
    },
    {
      "metadata": {
        "id": "ykXjelxG4kJW",
        "colab_type": "code",
        "colab": {}
      },
      "cell_type": "code",
      "source": [
        "def process_doc(string):\n",
        "  doc = string.split('/')[-1]\n",
        "  return process_string(doc)"
      ],
      "execution_count": 0,
      "outputs": []
    },
    {
      "metadata": {
        "id": "Tb8Z1Yj_LI8Z",
        "colab_type": "code",
        "colab": {}
      },
      "cell_type": "code",
      "source": [
        "original_processed_doc = {doc:process_doc(doc) for doc in original_doc}"
      ],
      "execution_count": 0,
      "outputs": []
    },
    {
      "metadata": {
        "id": "4GvZ93U_LVZJ",
        "colab_type": "code",
        "colab": {}
      },
      "cell_type": "code",
      "source": [
        "processed_original_doc = {value:key for key, value in original_processed_doc.items() if value is not None}"
      ],
      "execution_count": 0,
      "outputs": []
    },
    {
      "metadata": {
        "id": "gVITaNDTLjVR",
        "colab_type": "code",
        "outputId": "57c9bc83-4d3a-42ba-9fd1-25babdcc2427",
        "colab": {
          "base_uri": "https://localhost:8080/",
          "height": 34
        }
      },
      "cell_type": "code",
      "source": [
        "len(original_processed_doc), len(processed_original_doc)"
      ],
      "execution_count": 0,
      "outputs": [
        {
          "output_type": "execute_result",
          "data": {
            "text/plain": [
              "(66060, 66022)"
            ]
          },
          "metadata": {
            "tags": []
          },
          "execution_count": 12
        }
      ]
    },
    {
      "metadata": {
        "id": "jGhPQkwc4kWX",
        "colab_type": "code",
        "outputId": "6b87011b-ab55-4cad-fa28-2c020974887c",
        "colab": {
          "base_uri": "https://localhost:8080/",
          "height": 34
        }
      },
      "cell_type": "code",
      "source": [
        "query_str = data['query'].values\n",
        "query_str.shape"
      ],
      "execution_count": 0,
      "outputs": [
        {
          "output_type": "execute_result",
          "data": {
            "text/plain": [
              "(491044,)"
            ]
          },
          "metadata": {
            "tags": []
          },
          "execution_count": 13
        }
      ]
    },
    {
      "metadata": {
        "id": "DyMwkMgzGRNk",
        "colab_type": "code",
        "colab": {}
      },
      "cell_type": "code",
      "source": [
        "data['query'] = [process_string(str(s)) for s in query_str]"
      ],
      "execution_count": 0,
      "outputs": []
    },
    {
      "metadata": {
        "id": "wyUdMRzYGRsQ",
        "colab_type": "code",
        "colab": {}
      },
      "cell_type": "code",
      "source": [
        "data.doc = [process_doc(s) for s in data.doc.values]"
      ],
      "execution_count": 0,
      "outputs": []
    },
    {
      "metadata": {
        "id": "hPhkT323GRyc",
        "colab_type": "code",
        "outputId": "3634014f-86b4-495a-a6a8-8401a9f84e51",
        "colab": {
          "base_uri": "https://localhost:8080/",
          "height": 359
        }
      },
      "cell_type": "code",
      "source": [
        "data.head(10)"
      ],
      "execution_count": 0,
      "outputs": [
        {
          "output_type": "execute_result",
          "data": {
            "text/html": [
              "<div>\n",
              "<style scoped>\n",
              "    .dataframe tbody tr th:only-of-type {\n",
              "        vertical-align: middle;\n",
              "    }\n",
              "\n",
              "    .dataframe tbody tr th {\n",
              "        vertical-align: top;\n",
              "    }\n",
              "\n",
              "    .dataframe thead th {\n",
              "        text-align: right;\n",
              "    }\n",
              "</style>\n",
              "<table border=\"1\" class=\"dataframe\">\n",
              "  <thead>\n",
              "    <tr style=\"text-align: right;\">\n",
              "      <th></th>\n",
              "      <th>query</th>\n",
              "      <th>doc</th>\n",
              "    </tr>\n",
              "  </thead>\n",
              "  <tbody>\n",
              "    <tr>\n",
              "      <th>0</th>\n",
              "      <td>None</td>\n",
              "      <td>qilin</td>\n",
              "    </tr>\n",
              "    <tr>\n",
              "      <th>1</th>\n",
              "      <td>data integrity что это</td>\n",
              "      <td>data integrity</td>\n",
              "    </tr>\n",
              "    <tr>\n",
              "      <th>2</th>\n",
              "      <td>a harmonious rejuvenation add to your retreat ...</td>\n",
              "      <td>balmoral castle</td>\n",
              "    </tr>\n",
              "    <tr>\n",
              "      <th>3</th>\n",
              "      <td>can can</td>\n",
              "      <td>can can</td>\n",
              "    </tr>\n",
              "    <tr>\n",
              "      <th>4</th>\n",
              "      <td>all the quiet</td>\n",
              "      <td>all quiet on the western front</td>\n",
              "    </tr>\n",
              "    <tr>\n",
              "      <th>5</th>\n",
              "      <td>liliaceae tulipa lord beaconsfield parmesiano</td>\n",
              "      <td>liliaceae</td>\n",
              "    </tr>\n",
              "    <tr>\n",
              "      <th>6</th>\n",
              "      <td>hunan</td>\n",
              "      <td>hunan</td>\n",
              "    </tr>\n",
              "    <tr>\n",
              "      <th>7</th>\n",
              "      <td>vince vaughn</td>\n",
              "      <td>vince vaughn</td>\n",
              "    </tr>\n",
              "    <tr>\n",
              "      <th>8</th>\n",
              "      <td>iutube</td>\n",
              "      <td>youtube</td>\n",
              "    </tr>\n",
              "    <tr>\n",
              "      <th>9</th>\n",
              "      <td>the silence of the somme sound and realism in ...</td>\n",
              "      <td>battle of the somme</td>\n",
              "    </tr>\n",
              "  </tbody>\n",
              "</table>\n",
              "</div>"
            ],
            "text/plain": [
              "                                               query  \\\n",
              "0                                               None   \n",
              "1                             data integrity что это   \n",
              "2  a harmonious rejuvenation add to your retreat ...   \n",
              "3                                            can can   \n",
              "4                                      all the quiet   \n",
              "5      liliaceae tulipa lord beaconsfield parmesiano   \n",
              "6                                              hunan   \n",
              "7                                       vince vaughn   \n",
              "8                                             iutube   \n",
              "9  the silence of the somme sound and realism in ...   \n",
              "\n",
              "                              doc  \n",
              "0                           qilin  \n",
              "1                  data integrity  \n",
              "2                 balmoral castle  \n",
              "3                         can can  \n",
              "4  all quiet on the western front  \n",
              "5                       liliaceae  \n",
              "6                           hunan  \n",
              "7                    vince vaughn  \n",
              "8                         youtube  \n",
              "9             battle of the somme  "
            ]
          },
          "metadata": {
            "tags": []
          },
          "execution_count": 16
        }
      ]
    },
    {
      "metadata": {
        "id": "GfsdKUdlcbR3",
        "colab_type": "code",
        "outputId": "a2780c12-63a9-4087-8fab-4e4ef7ae0073",
        "colab": {
          "base_uri": "https://localhost:8080/",
          "height": 34
        }
      },
      "cell_type": "code",
      "source": [
        "query_vocab_counter['вики']"
      ],
      "execution_count": 0,
      "outputs": [
        {
          "output_type": "execute_result",
          "data": {
            "text/plain": [
              "3336"
            ]
          },
          "metadata": {
            "tags": []
          },
          "execution_count": 120
        }
      ]
    },
    {
      "metadata": {
        "id": "1nJgizxhGR9k",
        "colab_type": "code",
        "outputId": "018dc88e-81df-41dd-e067-898e6d41d44b",
        "colab": {
          "base_uri": "https://localhost:8080/",
          "height": 136
        }
      },
      "cell_type": "code",
      "source": [
        "data.dropna(inplace=True)\n",
        "data.info()"
      ],
      "execution_count": 0,
      "outputs": [
        {
          "output_type": "stream",
          "text": [
            "<class 'pandas.core.frame.DataFrame'>\n",
            "Int64Index: 486774 entries, 1 to 491043\n",
            "Data columns (total 2 columns):\n",
            "query    486774 non-null object\n",
            "doc      486774 non-null object\n",
            "dtypes: object(2)\n",
            "memory usage: 11.1+ MB\n"
          ],
          "name": "stdout"
        }
      ]
    },
    {
      "metadata": {
        "id": "FzfCITdOMNkk",
        "colab_type": "code",
        "outputId": "f6ff5f85-dc1c-4499-e011-92580ee423ab",
        "colab": {
          "base_uri": "https://localhost:8080/",
          "height": 359
        }
      },
      "cell_type": "code",
      "source": [
        "data.head(10)"
      ],
      "execution_count": 0,
      "outputs": [
        {
          "output_type": "execute_result",
          "data": {
            "text/html": [
              "<div>\n",
              "<style scoped>\n",
              "    .dataframe tbody tr th:only-of-type {\n",
              "        vertical-align: middle;\n",
              "    }\n",
              "\n",
              "    .dataframe tbody tr th {\n",
              "        vertical-align: top;\n",
              "    }\n",
              "\n",
              "    .dataframe thead th {\n",
              "        text-align: right;\n",
              "    }\n",
              "</style>\n",
              "<table border=\"1\" class=\"dataframe\">\n",
              "  <thead>\n",
              "    <tr style=\"text-align: right;\">\n",
              "      <th></th>\n",
              "      <th>query</th>\n",
              "      <th>doc</th>\n",
              "    </tr>\n",
              "  </thead>\n",
              "  <tbody>\n",
              "    <tr>\n",
              "      <th>1</th>\n",
              "      <td>data integrity что это</td>\n",
              "      <td>data integrity</td>\n",
              "    </tr>\n",
              "    <tr>\n",
              "      <th>2</th>\n",
              "      <td>a harmonious rejuvenation add to your retreat ...</td>\n",
              "      <td>balmoral castle</td>\n",
              "    </tr>\n",
              "    <tr>\n",
              "      <th>3</th>\n",
              "      <td>can can</td>\n",
              "      <td>can can</td>\n",
              "    </tr>\n",
              "    <tr>\n",
              "      <th>4</th>\n",
              "      <td>all the quiet</td>\n",
              "      <td>all quiet on the western front</td>\n",
              "    </tr>\n",
              "    <tr>\n",
              "      <th>5</th>\n",
              "      <td>liliaceae tulipa lord beaconsfield parmesiano</td>\n",
              "      <td>liliaceae</td>\n",
              "    </tr>\n",
              "    <tr>\n",
              "      <th>6</th>\n",
              "      <td>hunan</td>\n",
              "      <td>hunan</td>\n",
              "    </tr>\n",
              "    <tr>\n",
              "      <th>7</th>\n",
              "      <td>vince vaughn</td>\n",
              "      <td>vince vaughn</td>\n",
              "    </tr>\n",
              "    <tr>\n",
              "      <th>8</th>\n",
              "      <td>iutube</td>\n",
              "      <td>youtube</td>\n",
              "    </tr>\n",
              "    <tr>\n",
              "      <th>9</th>\n",
              "      <td>the silence of the somme sound and realism in ...</td>\n",
              "      <td>battle of the somme</td>\n",
              "    </tr>\n",
              "    <tr>\n",
              "      <th>10</th>\n",
              "      <td>kayle minogue</td>\n",
              "      <td>kylie minogue</td>\n",
              "    </tr>\n",
              "  </tbody>\n",
              "</table>\n",
              "</div>"
            ],
            "text/plain": [
              "                                                query  \\\n",
              "1                              data integrity что это   \n",
              "2   a harmonious rejuvenation add to your retreat ...   \n",
              "3                                             can can   \n",
              "4                                       all the quiet   \n",
              "5       liliaceae tulipa lord beaconsfield parmesiano   \n",
              "6                                               hunan   \n",
              "7                                        vince vaughn   \n",
              "8                                              iutube   \n",
              "9   the silence of the somme sound and realism in ...   \n",
              "10                                      kayle minogue   \n",
              "\n",
              "                               doc  \n",
              "1                   data integrity  \n",
              "2                  balmoral castle  \n",
              "3                          can can  \n",
              "4   all quiet on the western front  \n",
              "5                        liliaceae  \n",
              "6                            hunan  \n",
              "7                     vince vaughn  \n",
              "8                          youtube  \n",
              "9              battle of the somme  \n",
              "10                   kylie minogue  "
            ]
          },
          "metadata": {
            "tags": []
          },
          "execution_count": 18
        }
      ]
    },
    {
      "metadata": {
        "id": "cM520qWUKb-o",
        "colab_type": "code",
        "outputId": "6272c06e-2f88-457b-edf1-d0dd2c1fa90a",
        "colab": {
          "base_uri": "https://localhost:8080/",
          "height": 34
        }
      },
      "cell_type": "code",
      "source": [
        "processed_doc = data.doc.unique()\n",
        "processed_doc.shape"
      ],
      "execution_count": 0,
      "outputs": [
        {
          "output_type": "execute_result",
          "data": {
            "text/plain": [
              "(65999,)"
            ]
          },
          "metadata": {
            "tags": []
          },
          "execution_count": 19
        }
      ]
    },
    {
      "metadata": {
        "id": "nWzZpurZKvxV",
        "colab_type": "code",
        "outputId": "30d9a506-712f-4c97-eded-2fc6bba22ef4",
        "colab": {
          "base_uri": "https://localhost:8080/",
          "height": 34
        }
      },
      "cell_type": "code",
      "source": [
        "processed_original_doc[processed_doc[0]]"
      ],
      "execution_count": 0,
      "outputs": [
        {
          "output_type": "execute_result",
          "data": {
            "text/plain": [
              "'/wiki/Data_integrity'"
            ]
          },
          "metadata": {
            "tags": []
          },
          "execution_count": 20
        }
      ]
    },
    {
      "metadata": {
        "id": "nEcCZ8FFRcar",
        "colab_type": "code",
        "outputId": "8999de18-9e0e-415f-8338-8df40378035c",
        "colab": {
          "base_uri": "https://localhost:8080/",
          "height": 34
        }
      },
      "cell_type": "code",
      "source": [
        "from sklearn.model_selection import train_test_split\n",
        "train_data, valid_data = train_test_split(data, test_size=0.2)\n",
        "train_data.shape, valid_data.shape"
      ],
      "execution_count": 0,
      "outputs": [
        {
          "output_type": "execute_result",
          "data": {
            "text/plain": [
              "((389419, 2), (97355, 2))"
            ]
          },
          "metadata": {
            "tags": []
          },
          "execution_count": 21
        }
      ]
    },
    {
      "metadata": {
        "id": "K2lKb_bJNgeG",
        "colab_type": "code",
        "colab": {}
      },
      "cell_type": "code",
      "source": [
        "from collections import Counter"
      ],
      "execution_count": 0,
      "outputs": []
    },
    {
      "metadata": {
        "id": "FQajkfNTKv6I",
        "colab_type": "code",
        "outputId": "5068952d-14d4-4e70-df74-d1c80838a6b4",
        "colab": {
          "base_uri": "https://localhost:8080/",
          "height": 34
        }
      },
      "cell_type": "code",
      "source": [
        "query_vocab_counter = Counter()\n",
        "for s in train_data['query'].values:\n",
        "  query_vocab_counter.update(s.split())\n",
        "len(query_vocab_counter)"
      ],
      "execution_count": 0,
      "outputs": [
        {
          "output_type": "execute_result",
          "data": {
            "text/plain": [
              "207908"
            ]
          },
          "metadata": {
            "tags": []
          },
          "execution_count": 23
        }
      ]
    },
    {
      "metadata": {
        "id": "rwFeo_LTODjQ",
        "colab_type": "code",
        "outputId": "79bc82d5-09f2-4b12-f7b2-2d01979423ae",
        "colab": {
          "base_uri": "https://localhost:8080/",
          "height": 34
        }
      },
      "cell_type": "code",
      "source": [
        "max(query_vocab_counter.values())"
      ],
      "execution_count": 0,
      "outputs": [
        {
          "output_type": "execute_result",
          "data": {
            "text/plain": [
              "61601"
            ]
          },
          "metadata": {
            "tags": []
          },
          "execution_count": 24
        }
      ]
    },
    {
      "metadata": {
        "id": "zQ44G9mwONiM",
        "colab_type": "code",
        "outputId": "99532129-fd1a-4e19-b55e-9a19ea377392",
        "colab": {
          "base_uri": "https://localhost:8080/",
          "height": 357
        }
      },
      "cell_type": "code",
      "source": [
        "query_vocab_counter.most_common(20)"
      ],
      "execution_count": 0,
      "outputs": [
        {
          "output_type": "execute_result",
          "data": {
            "text/plain": [
              "[('the', 61601),\n",
              " ('of', 40094),\n",
              " ('википедия', 21851),\n",
              " ('and', 21563),\n",
              " ('in', 21005),\n",
              " ('a', 19005),\n",
              " ('to', 15549),\n",
              " ('is', 15244),\n",
              " ('wiki', 11326),\n",
              " ('for', 7003),\n",
              " ('s', 6253),\n",
              " ('on', 5316),\n",
              " ('that', 5192),\n",
              " ('as', 4912),\n",
              " ('with', 4875),\n",
              " ('are', 4873),\n",
              " ('это', 4744),\n",
              " ('it', 4694),\n",
              " ('wikipedia', 4394),\n",
              " ('by', 4261)]"
            ]
          },
          "metadata": {
            "tags": []
          },
          "execution_count": 25
        }
      ]
    },
    {
      "metadata": {
        "id": "7ldDyfGTOjjx",
        "colab_type": "code",
        "outputId": "6857e9f2-089b-4f2e-cf22-520cb74ce60f",
        "colab": {
          "base_uri": "https://localhost:8080/",
          "height": 34
        }
      },
      "cell_type": "code",
      "source": [
        "query_vocab = {key for key, value in query_vocab_counter.items() if 10 < value < 4000}\n",
        "len(query_vocab)"
      ],
      "execution_count": 0,
      "outputs": [
        {
          "output_type": "execute_result",
          "data": {
            "text/plain": [
              "16732"
            ]
          },
          "metadata": {
            "tags": []
          },
          "execution_count": 26
        }
      ]
    },
    {
      "metadata": {
        "id": "u2Xn8fPzKwBl",
        "colab_type": "code",
        "outputId": "e1acfb70-42c2-4248-9401-f8dbb83e6611",
        "colab": {
          "base_uri": "https://localhost:8080/",
          "height": 34
        }
      },
      "cell_type": "code",
      "source": [
        "idx_query_token = ['<PAD>', '<UNK>'] + list(query_vocab)\n",
        "len(idx_query_token)"
      ],
      "execution_count": 0,
      "outputs": [
        {
          "output_type": "execute_result",
          "data": {
            "text/plain": [
              "16734"
            ]
          },
          "metadata": {
            "tags": []
          },
          "execution_count": 27
        }
      ]
    },
    {
      "metadata": {
        "id": "oQ0mBzLOKwKr",
        "colab_type": "code",
        "outputId": "674a2293-ac9c-4825-e962-e59177b5d271",
        "colab": {
          "base_uri": "https://localhost:8080/",
          "height": 34
        }
      },
      "cell_type": "code",
      "source": [
        "query_to_idx = {t: i for i, t in enumerate(idx_query_token)}\n",
        "query_to_idx['<UNK>']"
      ],
      "execution_count": 0,
      "outputs": [
        {
          "output_type": "execute_result",
          "data": {
            "text/plain": [
              "1"
            ]
          },
          "metadata": {
            "tags": []
          },
          "execution_count": 28
        }
      ]
    },
    {
      "metadata": {
        "id": "8XI9ABcNKwSF",
        "colab_type": "code",
        "outputId": "74766c12-702f-49cd-93c6-f318a0b1cb13",
        "colab": {
          "base_uri": "https://localhost:8080/",
          "height": 34
        }
      },
      "cell_type": "code",
      "source": [
        "doc_vocab = set()\n",
        "for d in processed_doc:\n",
        "  doc_vocab.update(set(d.split()))\n",
        "len(doc_vocab)"
      ],
      "execution_count": 0,
      "outputs": [
        {
          "output_type": "execute_result",
          "data": {
            "text/plain": [
              "45927"
            ]
          },
          "metadata": {
            "tags": []
          },
          "execution_count": 29
        }
      ]
    },
    {
      "metadata": {
        "id": "EskkTqtHQk0z",
        "colab_type": "code",
        "outputId": "bd3dac29-df47-4fb9-8382-3e8270738f3e",
        "colab": {
          "base_uri": "https://localhost:8080/",
          "height": 34
        }
      },
      "cell_type": "code",
      "source": [
        "idx_doc_token = ['<PAD>'] + list(doc_vocab)\n",
        "doc_to_idx = {d: i for i, d in enumerate(idx_doc_token)}\n",
        "doc_to_idx['usa'], idx_doc_token[29873]"
      ],
      "execution_count": 0,
      "outputs": [
        {
          "output_type": "execute_result",
          "data": {
            "text/plain": [
              "(689, 'eye')"
            ]
          },
          "metadata": {
            "tags": []
          },
          "execution_count": 30
        }
      ]
    },
    {
      "metadata": {
        "id": "tDGnoZ74R1qX",
        "colab_type": "code",
        "colab": {}
      },
      "cell_type": "code",
      "source": [
        "def iterate_minibatches(data, batch_size, total_batch_num, shuffle=True, cycle=False):\n",
        "    indices = np.arange(len(data))\n",
        "    cnt = 0\n",
        "    while True:\n",
        "        if shuffle:\n",
        "            indices = np.random.permutation(indices)\n",
        "        for batch_start in range(0, len(indices), batch_size):\n",
        "            batch_indices = indices[batch_start: batch_start + batch_size]\n",
        "            batch = data.iloc[batch_indices]\n",
        "            queries = batch['query'].values\n",
        "            correct_answers = batch['doc'].values\n",
        "            wrong_answers = np.random.choice(processed_doc, size=correct_answers.shape)\n",
        "            yield {\n",
        "                'queries' : queries,\n",
        "                'correct': correct_answers,\n",
        "                'wrong': wrong_answers\n",
        "            }\n",
        "            cnt += 1\n",
        "            if cnt == total_batch_num:\n",
        "                break\n",
        "        if cnt == total_batch_num:\n",
        "            break\n",
        "        if not cycle:\n",
        "            break"
      ],
      "execution_count": 0,
      "outputs": []
    },
    {
      "metadata": {
        "id": "Dvzb1EQPQIih",
        "colab_type": "code",
        "outputId": "11205d5d-490f-48b8-cdba-a7a39c12b5e4",
        "colab": {
          "base_uri": "https://localhost:8080/",
          "height": 125
        }
      },
      "cell_type": "code",
      "source": [
        "dummy_batch = next(iterate_minibatches(train_data.sample(3), 3, 10))\n",
        "print(dummy_batch)"
      ],
      "execution_count": 0,
      "outputs": [
        {
          "output_type": "stream",
          "text": [
            "{'queries': array(['a famous picture house in trafalgar square',\n",
            "       'products to maintain the cleaning process the body of',\n",
            "       'hentai wikipedia host en wikipedia org'], dtype=object), 'correct': array(['trafalgar square', 'hygiene', 'hentai'], dtype=object), 'wrong': array(['dave madden', 'robert adler', 'restless heart whitesnake album'],\n",
            "      dtype=object)}\n"
          ],
          "name": "stdout"
        }
      ]
    },
    {
      "metadata": {
        "id": "7wVLQ3MMQIq4",
        "colab_type": "code",
        "colab": {}
      },
      "cell_type": "code",
      "source": [
        "def text_to_idx(string, mapper, UNK_IDX=1):\n",
        "  return torch.LongTensor([mapper[t] if t in mapper else UNK_IDX for t in string.split()])"
      ],
      "execution_count": 0,
      "outputs": []
    },
    {
      "metadata": {
        "id": "KcLQpTHffX1M",
        "colab_type": "code",
        "outputId": "71b47998-0209-4009-d2dc-9274e2da367e",
        "colab": {
          "base_uri": "https://localhost:8080/",
          "height": 34
        }
      },
      "cell_type": "code",
      "source": [
        "text_to_idx(dummy_batch[\"queries\"][0], query_to_idx)"
      ],
      "execution_count": 0,
      "outputs": [
        {
          "output_type": "execute_result",
          "data": {
            "text/plain": [
              "tensor([    1, 10842, 11275, 13924,     1, 12506, 10347])"
            ]
          },
          "metadata": {
            "tags": []
          },
          "execution_count": 34
        }
      ]
    },
    {
      "metadata": {
        "id": "1da3JLdwfX9S",
        "colab_type": "code",
        "outputId": "04cc1337-db5d-4be9-b43c-5ea86c28e0e2",
        "colab": {
          "base_uri": "https://localhost:8080/",
          "height": 85
        }
      },
      "cell_type": "code",
      "source": [
        "def array_to_tensors(array, mapper, max_len=20, UNK_IDX=1):\n",
        "  tensors = [text_to_idx(s, mapper, UNK_IDX=UNK_IDX)[:max_len] for s in array]\n",
        "  lens = [len(tensor) for tensor in tensors]\n",
        "  return tensors, lens\n",
        "array_to_tensors(dummy_batch['queries'], query_to_idx)"
      ],
      "execution_count": 0,
      "outputs": [
        {
          "output_type": "execute_result",
          "data": {
            "text/plain": [
              "([tensor([    1, 10842, 11275, 13924,     1, 12506, 10347]),\n",
              "  tensor([ 6480,     1, 10106,     1, 12685,   240,     1,  9611,     1]),\n",
              "  tensor([ 6558,     1, 11124, 12029,     1, 10972])],\n",
              " [7, 9, 6])"
            ]
          },
          "metadata": {
            "tags": []
          },
          "execution_count": 35
        }
      ]
    },
    {
      "metadata": {
        "id": "u8aNutavfYFz",
        "colab_type": "code",
        "colab": {}
      },
      "cell_type": "code",
      "source": [
        "def pad_batch(array, mapper, max_len=20, UNK_IDX=1):\n",
        "  tensors, lens = array_to_tensors(array, mapper, max_len, UNK_IDX)\n",
        "  padded_tensor = nn.utils.rnn.pad_sequence(tensors, batch_first=True, padding_value=0)\n",
        "  lens = torch.LongTensor(lens)\n",
        "  lens, order = torch.sort(lens, descending=True)\n",
        "  return padded_tensor[order], lens, order"
      ],
      "execution_count": 0,
      "outputs": []
    },
    {
      "metadata": {
        "id": "ufAmiv6kfYPI",
        "colab_type": "code",
        "outputId": "6c8c3e7e-8b12-4a12-8cbb-8b4d29ed0721",
        "colab": {
          "base_uri": "https://localhost:8080/",
          "height": 102
        }
      },
      "cell_type": "code",
      "source": [
        "pad_batch(dummy_batch['queries'], query_to_idx)"
      ],
      "execution_count": 0,
      "outputs": [
        {
          "output_type": "execute_result",
          "data": {
            "text/plain": [
              "(tensor([[ 6480,     1, 10106,     1, 12685,   240,     1,  9611,     1],\n",
              "         [    1, 10842, 11275, 13924,     1, 12506, 10347,     0,     0],\n",
              "         [ 6558,     1, 11124, 12029,     1, 10972,     0,     0,     0]]),\n",
              " tensor([9, 7, 6]),\n",
              " tensor([1, 0, 2]))"
            ]
          },
          "metadata": {
            "tags": []
          },
          "execution_count": 37
        }
      ]
    },
    {
      "metadata": {
        "id": "I1vjpncEKwZN",
        "colab_type": "code",
        "outputId": "3eec6175-34bc-4882-9ec8-05ca905a273a",
        "colab": {
          "base_uri": "https://localhost:8080/",
          "height": 68
        }
      },
      "cell_type": "code",
      "source": [
        "paded, lens, order = pad_batch(dummy_batch['queries'], query_to_idx)\n",
        "paded"
      ],
      "execution_count": 0,
      "outputs": [
        {
          "output_type": "execute_result",
          "data": {
            "text/plain": [
              "tensor([[ 6480,     1, 10106,     1, 12685,   240,     1,  9611,     1],\n",
              "        [    1, 10842, 11275, 13924,     1, 12506, 10347,     0,     0],\n",
              "        [ 6558,     1, 11124, 12029,     1, 10972,     0,     0,     0]])"
            ]
          },
          "metadata": {
            "tags": []
          },
          "execution_count": 38
        }
      ]
    },
    {
      "metadata": {
        "id": "M9gXR5Dw1tUN",
        "colab_type": "code",
        "colab": {}
      },
      "cell_type": "code",
      "source": [
        "emb = nn.Embedding(num_embeddings=16576, embedding_dim=4, padding_idx=0)"
      ],
      "execution_count": 0,
      "outputs": []
    },
    {
      "metadata": {
        "id": "wwARbStZ1tcA",
        "colab_type": "code",
        "outputId": "6d0e278b-6e9a-44b3-91d6-6d6bcba80c3f",
        "colab": {
          "base_uri": "https://localhost:8080/",
          "height": 34
        }
      },
      "cell_type": "code",
      "source": [
        "emb(paded).shape"
      ],
      "execution_count": 0,
      "outputs": [
        {
          "output_type": "execute_result",
          "data": {
            "text/plain": [
              "torch.Size([3, 9, 4])"
            ]
          },
          "metadata": {
            "tags": []
          },
          "execution_count": 40
        }
      ]
    },
    {
      "metadata": {
        "id": "15Tq9rAm1tjt",
        "colab_type": "code",
        "colab": {}
      },
      "cell_type": "code",
      "source": [
        "def reverse_order(order):\n",
        "  rev_order = torch.zeros_like(order)\n",
        "  for old, new in enumerate(order):\n",
        "    rev_order[new] = old\n",
        "  return rev_order"
      ],
      "execution_count": 0,
      "outputs": []
    },
    {
      "metadata": {
        "id": "_QoRYnx31trZ",
        "colab_type": "code",
        "outputId": "7189c2b4-cf21-49f0-979c-a9b5db796f5a",
        "colab": {
          "base_uri": "https://localhost:8080/",
          "height": 34
        }
      },
      "cell_type": "code",
      "source": [
        "reverse_order(order)"
      ],
      "execution_count": 0,
      "outputs": [
        {
          "output_type": "execute_result",
          "data": {
            "text/plain": [
              "tensor([1, 0, 2])"
            ]
          },
          "metadata": {
            "tags": []
          },
          "execution_count": 42
        }
      ]
    },
    {
      "metadata": {
        "id": "0QFg8SWF1tyM",
        "colab_type": "code",
        "outputId": "2552b88d-5cda-4235-81a6-1a664fb6883a",
        "colab": {
          "base_uri": "https://localhost:8080/",
          "height": 68
        }
      },
      "cell_type": "code",
      "source": [
        "paded[reverse_order(order)]"
      ],
      "execution_count": 0,
      "outputs": [
        {
          "output_type": "execute_result",
          "data": {
            "text/plain": [
              "tensor([[    1, 10842, 11275, 13924,     1, 12506, 10347,     0,     0],\n",
              "        [ 6480,     1, 10106,     1, 12685,   240,     1,  9611,     1],\n",
              "        [ 6558,     1, 11124, 12029,     1, 10972,     0,     0,     0]])"
            ]
          },
          "metadata": {
            "tags": []
          },
          "execution_count": 43
        }
      ]
    },
    {
      "metadata": {
        "id": "uebCLqLN1t6i",
        "colab_type": "code",
        "colab": {}
      },
      "cell_type": "code",
      "source": [
        ""
      ],
      "execution_count": 0,
      "outputs": []
    },
    {
      "metadata": {
        "id": "3aCesddnqsOO",
        "colab_type": "code",
        "colab": {}
      },
      "cell_type": "code",
      "source": [
        "class SentenceEmbedder(nn.Module):\n",
        "  def __init__(self, emb_num, emb_dim, hid_dim, lstm_num, lstm_dropout, dense_dim, dense_dropout):\n",
        "    super(SentenceEmbedder, self).__init__()\n",
        "    self.emb = nn.Embedding(num_embeddings=emb_num, embedding_dim=emb_dim, padding_idx=0)\n",
        "    self.lstm = nn.LSTM(input_size=emb_dim, hidden_size=hid_dim, num_layers=lstm_num, batch_first=True,\n",
        "                       bidirectional=True, dropout=lstm_dropout, )\n",
        "    self.drop = nn.Dropout(dense_dropout)\n",
        "    self.dense = nn.Linear(2 * hid_dim, dense_dim)\n",
        "    nn.init.xavier_uniform_(self.dense.weight)\n",
        "    \n",
        "  def forward(self, input, lens):\n",
        "    embedded_inp = self.emb(input)\n",
        "    packed = nn.utils.rnn.pack_padded_sequence(embedded_inp, lens, batch_first=True)\n",
        "    lstm_out, (h, c) = self.lstm(packed)\n",
        "    unpack, new_lens = nn.utils.rnn.pad_packed_sequence(lstm_out, batch_first=True, padding_value=0)\n",
        "    average = torch.mean(unpack, dim=1)\n",
        "    return self.dense(self.drop(average))\n",
        "                                                                                                                                                                                                                                                                                                                                                                                                                                                                                                                                                                                                                                                                                                                                                                                                                                                                                                                                                                                                                                                                                                                                                                                                                                                                                                                                                                                                                                                                                                                                                                                                                                                                                                                                                                                                                                                                                                                                                                                                                                                                                                                                                                                                                                                                                                                                                                                                                                                                                                                                                                                                                                                                                                                                                                                                                                                                                                                                                                                                                                                                                                                                                                                                                                                                                                                                                                                                                                                                                                                                                                                                                                                                                                                                                                                                                                                                                                                                                                                                                                                                                                                                                                                                                                                                                                                                                                                                                                                                                                                                                                                                                                                                                                                                                                                                                                                                                                                                                                                                                                                                                                                                                                                                                                                                                                                                                                                                                                                                                                                                                                                                                                                                                                                                                                                                                                                                                                                                                                                                                                                                                                                                                                                                                                                                                                                                                                                                                                                                                                                                                                                                                                                                                                                                                                                                                                                                                                                                                                                                                                                                                                                                                                                                                                                                                                                                                                                                                                                                                                                                                                                                                                                                                                                                                                                                                                                                                                                                                                                                                                                                                                                                                                                                                                                                                                                                                                                                                                                                                                                                                                                                                                                                                                                                                                                                                                                                                                                                                                                                                                                                                                                                                                                                                                                                                                                                                                                                                                                                                                                                                                                                                        \n"
      ],
      "execution_count": 0,
      "outputs": []
    },
    {
      "metadata": {
        "id": "Cw4I4g3zQI9_",
        "colab_type": "code",
        "colab": {}
      },
      "cell_type": "code",
      "source": [
        "query_embedder = SentenceEmbedder(emb_num=len(idx_query_token), emb_dim=512, hid_dim=1024, lstm_num=2, lstm_dropout=0.1,\n",
        "                             dense_dim=1024, dense_dropout=0.1)"
      ],
      "execution_count": 0,
      "outputs": []
    },
    {
      "metadata": {
        "id": "6VUqr6TqMwft",
        "colab_type": "code",
        "colab": {}
      },
      "cell_type": "code",
      "source": [
        "paded, lens, q_order = pad_batch(dummy_batch['queries'], query_to_idx)\n",
        "q_emb = query_embedder(paded, lens)"
      ],
      "execution_count": 0,
      "outputs": []
    },
    {
      "metadata": {
        "id": "f1uLoXtbMw-j",
        "colab_type": "code",
        "colab": {}
      },
      "cell_type": "code",
      "source": [
        "doc_embedder = SentenceEmbedder(emb_num=len(idx_doc_token), emb_dim=512, hid_dim=1024, lstm_num=2, lstm_dropout=0.1,\n",
        "                             dense_dim=1024, dense_dropout=0.1)"
      ],
      "execution_count": 0,
      "outputs": []
    },
    {
      "metadata": {
        "id": "HBtKCmtDMxEW",
        "colab_type": "code",
        "colab": {}
      },
      "cell_type": "code",
      "source": [
        "paded, lens, c_order = pad_batch(dummy_batch['correct'], doc_to_idx)\n",
        "c_emb = doc_embedder(paded, lens)"
      ],
      "execution_count": 0,
      "outputs": []
    },
    {
      "metadata": {
        "id": "lULOYujiMxJI",
        "colab_type": "code",
        "colab": {}
      },
      "cell_type": "code",
      "source": [
        "paded, lens, w_order = pad_batch(dummy_batch['wrong'], doc_to_idx)\n",
        "w_emb = doc_embedder(paded, lens)"
      ],
      "execution_count": 0,
      "outputs": []
    },
    {
      "metadata": {
        "id": "Qz5NJDofcNVl",
        "colab_type": "code",
        "outputId": "1535303c-f942-4988-d2aa-14b0f593b709",
        "colab": {
          "base_uri": "https://localhost:8080/",
          "height": 34
        }
      },
      "cell_type": "code",
      "source": [
        "q_emb.shape, c_emb.shape, w_emb.shape"
      ],
      "execution_count": 0,
      "outputs": [
        {
          "output_type": "execute_result",
          "data": {
            "text/plain": [
              "(torch.Size([3, 1024]), torch.Size([3, 1024]), torch.Size([3, 1024]))"
            ]
          },
          "metadata": {
            "tags": []
          },
          "execution_count": 85
        }
      ]
    },
    {
      "metadata": {
        "id": "9KRhWDYHcxWp",
        "colab_type": "code",
        "outputId": "acaead3e-be95-424b-e18e-63787d381f0c",
        "colab": {
          "base_uri": "https://localhost:8080/",
          "height": 34
        }
      },
      "cell_type": "code",
      "source": [
        "torch.max(torch.zeros(3), 1 - F.cosine_similarity(q_emb, c_emb) + F.cosine_similarity(q_emb, w_emb))"
      ],
      "execution_count": 0,
      "outputs": [
        {
          "output_type": "execute_result",
          "data": {
            "text/plain": [
              "tensor([0.9563, 1.0139, 1.0444], grad_fn=<MaxBackward2>)"
            ]
          },
          "metadata": {
            "tags": []
          },
          "execution_count": 86
        }
      ]
    },
    {
      "metadata": {
        "id": "clLE3HrLMxOI",
        "colab_type": "code",
        "colab": {}
      },
      "cell_type": "code",
      "source": [
        "def compute_loss(query, pos, neg):\n",
        "  pos_score = F.cosine_similarity(query, pos)\n",
        "  neg_score = F.cosine_similarity(query, neg)\n",
        "  loss = torch.max(torch.zeros_like(pos_score), 1 - pos_score + neg_score)\n",
        "  return torch.mean(loss)"
      ],
      "execution_count": 0,
      "outputs": []
    },
    {
      "metadata": {
        "id": "R3fI0GqyLqtT",
        "colab_type": "code",
        "outputId": "9197c9fc-c8c1-4f28-ff97-6c4d0991a5a9",
        "colab": {
          "base_uri": "https://localhost:8080/",
          "height": 34
        }
      },
      "cell_type": "code",
      "source": [
        "compute_loss(q_emb[reverse_order(q_order)], c_emb[reverse_order(c_order)], w_emb[reverse_order(w_order)])"
      ],
      "execution_count": 0,
      "outputs": [
        {
          "output_type": "execute_result",
          "data": {
            "text/plain": [
              "tensor(1.0116, grad_fn=<MeanBackward1>)"
            ]
          },
          "metadata": {
            "tags": []
          },
          "execution_count": 88
        }
      ]
    },
    {
      "metadata": {
        "id": "DXX7v3tWhk0Q",
        "colab_type": "code",
        "colab": {}
      },
      "cell_type": "code",
      "source": [
        "with torch.cuda.device(0):\n",
        "  query_embedder_gpu = query_embedder.cuda()\n",
        "  doc_embedder_gpu = doc_embedder.cuda()\n",
        "optim = torch.optim.Adam([{'params': query_embedder_gpu.parameters()}, \n",
        "                          {'params': doc_embedder_gpu.parameters()}], lr=0.001)"
      ],
      "execution_count": 0,
      "outputs": []
    },
    {
      "metadata": {
        "id": "Bv4mr9hTl--N",
        "colab_type": "code",
        "colab": {}
      },
      "cell_type": "code",
      "source": [
        "from tqdm import tqdm\n",
        "from IPython.display import clear_output\n",
        "import scipy.spatial.distance as ssd\n",
        "from sklearn.metrics import accuracy_score"
      ],
      "execution_count": 0,
      "outputs": []
    },
    {
      "metadata": {
        "id": "-CHoIysZoCBK",
        "colab_type": "code",
        "colab": {}
      },
      "cell_type": "code",
      "source": [
        "train_loss = []\n",
        "val_acc = []\n",
        "dev_batches = iterate_minibatches(valid_data, batch_size=1024, total_batch_num=1000, cycle=True, shuffle=True)"
      ],
      "execution_count": 0,
      "outputs": []
    },
    {
      "metadata": {
        "id": "Mgoo8cfj6Z4u",
        "colab_type": "code",
        "colab": {}
      },
      "cell_type": "code",
      "source": [
        "def calc_dev_results(dev_batch):\n",
        "  with torch.no_grad():\n",
        "      queries, q_lens, query_order = pad_batch(dev_batch['queries'], query_to_idx, max_len=20)\n",
        "      correct, c_lens, corr_order = pad_batch(dev_batch['correct'], doc_to_idx, max_len=20)\n",
        "      with torch.cuda.device(0):\n",
        "        q_embed = query_embedder_gpu(queries.cuda(), q_lens.cuda())\n",
        "        c_embed = doc_embedder_gpu(correct.cuda(), c_lens.cuda())\n",
        "        true_query_order = reverse_order(query_order)\n",
        "        true_corr_order = reverse_order(corr_order)\n",
        "      q_embed = q_embed[true_query_order]\n",
        "      c_embed = c_embed[true_corr_order]\n",
        "  return q_embed.cpu().numpy(), c_embed.cpu().numpy()"
      ],
      "execution_count": 0,
      "outputs": []
    },
    {
      "metadata": {
        "id": "PK471GCQk02q",
        "colab_type": "code",
        "outputId": "07e12384-9659-418a-cfca-80e2cdbe15c5",
        "colab": {
          "base_uri": "https://localhost:8080/",
          "height": 423
        }
      },
      "cell_type": "code",
      "source": [
        "for batch in tqdm(iterate_minibatches(train_data, batch_size=1024, total_batch_num=500, cycle=True, shuffle=True)):\n",
        "  query_embedder_gpu.train()\n",
        "  doc_embedder_gpu.train()\n",
        "  \n",
        "  query_cpu, corr_cpu = calc_dev_results(batch)\n",
        "  dist = ssd.cdist(query_cpu, corr_cpu, metric='cosine')\n",
        "  dist += np.eye(len(query_cpu))\n",
        "  hard_negs = np.argmin(dist, axis=1)\n",
        "  \n",
        "  queries, q_lens, query_order = pad_batch(batch['queries'], query_to_idx, max_len=20)\n",
        "  correct, c_lens, corr_order = pad_batch(batch['correct'], doc_to_idx, max_len=20)\n",
        "\n",
        "  true_corr_order = reverse_order(corr_order)\n",
        "  true_correct = correct[true_corr_order]\n",
        "  wrong = true_correct[hard_negs]\n",
        "  w_lens = c_lens[true_corr_order][hard_negs]\n",
        "  w_lens, wrong_order = torch.sort(w_lens, descending=True)\n",
        "  wrong = wrong[wrong_order]\n",
        "  \n",
        "  with torch.cuda.device(0):\n",
        "    q_embed = query_embedder_gpu(queries.cuda(), q_lens.cuda())\n",
        "    c_embed = doc_embedder_gpu(correct.cuda(), c_lens.cuda())\n",
        "    w_embed = doc_embedder_gpu(wrong.cuda(), w_lens.cuda())\n",
        "    true_query_order = reverse_order(query_order)\n",
        "    true_corr_order = reverse_order(corr_order)\n",
        "    true_wrong_order = reverse_order(wrong_order)\n",
        "  loss = compute_loss(q_embed[true_query_order], c_embed[true_corr_order], w_embed[true_wrong_order])\n",
        "  loss.backward()\n",
        "  optim.step()\n",
        "  optim.zero_grad()\n",
        "  \n",
        "  train_loss.append(float(loss.detach().cpu().data))\n",
        "  if len(train_loss) % 50 == 0:\n",
        "    query_embedder_gpu.eval()\n",
        "    doc_embedder_gpu.eval()\n",
        "    \n",
        "    dev_batch = next(dev_batches)\n",
        "    q_embed_1, c_embed_1 = calc_dev_results(dev_batch)\n",
        "    dev_batch = next(dev_batches)\n",
        "    q_embed_2, c_embed_2 = calc_dev_results(dev_batch)\n",
        "    q_embed = np.vstack((q_embed_1, q_embed_2))\n",
        "    c_embed = np.vstack((c_embed_1, c_embed_2))\n",
        "    dist = ssd.cdist(q_embed, c_embed, metric='cosine')\n",
        "    nns = np.argmin(dist, axis=1)\n",
        "    acc = accuracy_score(np.arange(len(q_embed)), nns)\n",
        "    val_acc.append(acc)\n",
        "      \n",
        "  if len(train_loss) % 50 == 0:\n",
        "    clear_output(True)\n",
        "    plt.figure(figsize=[12, 6])\n",
        "    plt.subplot(1, 2, 1), plt.title('train loss (hinge)'), plt.grid()\n",
        "    plt.plot(train_loss)\n",
        "    plt.subplot(1, 2, 2), plt.title('vall acc'), plt.grid()\n",
        "    plt.plot(val_acc)\n",
        "    plt.show()"
      ],
      "execution_count": 0,
      "outputs": [
        {
          "output_type": "display_data",
          "data": {
            "image/png": "[encoded data removed]",
            "text/plain": [
              "<Figure size 864x432 with 2 Axes>"
            ]
          },
          "metadata": {
            "tags": []
          }
        },
        {
          "output_type": "stream",
          "text": [
            "\n",
            "500it [18:41,  3.16s/it]\u001b[A\n",
            "\u001b[A"
          ],
          "name": "stderr"
        }
      ]
    },
    {
      "metadata": {
        "id": "y-_ZI_hLl-O8",
        "colab_type": "code",
        "outputId": "1aca54ea-e266-4e7f-ca73-a62b76930341",
        "colab": {
          "base_uri": "https://localhost:8080/",
          "height": 204
        }
      },
      "cell_type": "code",
      "source": [
        "array_to_tensors(processed_doc[:10], doc_to_idx, max_len=20)"
      ],
      "execution_count": 0,
      "outputs": [
        {
          "output_type": "execute_result",
          "data": {
            "text/plain": [
              "([tensor([44172, 22687]),\n",
              "  tensor([38750, 38124]),\n",
              "  tensor([21322, 21322]),\n",
              "  tensor([43955, 29728, 25548, 37503, 27806, 24262]),\n",
              "  tensor([24698]),\n",
              "  tensor([41515]),\n",
              "  tensor([31066,  7752]),\n",
              "  tensor([7707]),\n",
              "  tensor([ 2831,  1841, 37503, 10635]),\n",
              "  tensor([41141, 32657])],\n",
              " [2, 2, 2, 6, 1, 1, 2, 1, 4, 2])"
            ]
          },
          "metadata": {
            "tags": []
          },
          "execution_count": 94
        }
      ]
    },
    {
      "metadata": {
        "id": "7yoV9VL65ZDT",
        "colab_type": "code",
        "outputId": "90069deb-f511-4e01-d9a9-707326aaa5ce",
        "colab": {
          "base_uri": "https://localhost:8080/",
          "height": 187
        }
      },
      "cell_type": "code",
      "source": [
        "pad_batch(processed_doc[:10], doc_to_idx, max_len=20)[0][reverse_order(pad_batch(processed_doc[:10], doc_to_idx, max_len=20)[2])]"
      ],
      "execution_count": 0,
      "outputs": [
        {
          "output_type": "execute_result",
          "data": {
            "text/plain": [
              "tensor([[44172, 22687,     0,     0,     0,     0],\n",
              "        [38750, 38124,     0,     0,     0,     0],\n",
              "        [21322, 21322,     0,     0,     0,     0],\n",
              "        [43955, 29728, 25548, 37503, 27806, 24262],\n",
              "        [24698,     0,     0,     0,     0,     0],\n",
              "        [41515,     0,     0,     0,     0,     0],\n",
              "        [31066,  7752,     0,     0,     0,     0],\n",
              "        [ 7707,     0,     0,     0,     0,     0],\n",
              "        [ 2831,  1841, 37503, 10635,     0,     0],\n",
              "        [41141, 32657,     0,     0,     0,     0]])"
            ]
          },
          "metadata": {
            "tags": []
          },
          "execution_count": 95
        }
      ]
    },
    {
      "metadata": {
        "id": "8jdocdNZ6fdA",
        "colab_type": "code",
        "outputId": "008d0e94-e653-4143-ff86-e1ba22e7ee2d",
        "colab": {
          "base_uri": "https://localhost:8080/",
          "height": 97
        }
      },
      "cell_type": "code",
      "source": [
        "!pip install nmslib"
      ],
      "execution_count": 0,
      "outputs": [
        {
          "output_type": "stream",
          "text": [
            "Requirement already satisfied: nmslib in /usr/local/lib/python3.6/dist-packages (1.7.3.6)\n",
            "Requirement already satisfied: pybind11>=2.0 in /usr/local/lib/python3.6/dist-packages (from nmslib) (2.2.4)\n",
            "Requirement already satisfied: numpy in /usr/local/lib/python3.6/dist-packages (from nmslib) (1.14.6)\n"
          ],
          "name": "stdout"
        }
      ]
    },
    {
      "metadata": {
        "id": "rYqs5zmo6GfJ",
        "colab_type": "code",
        "colab": {}
      },
      "cell_type": "code",
      "source": [
        "import nmslib"
      ],
      "execution_count": 0,
      "outputs": []
    },
    {
      "metadata": {
        "id": "xKd6nPc36Gmm",
        "colab_type": "code",
        "colab": {}
      },
      "cell_type": "code",
      "source": [
        "index = nmslib.init(method='hnsw', space='cosinesimil')"
      ],
      "execution_count": 0,
      "outputs": []
    },
    {
      "metadata": {
        "id": "ll9Wea2P6Gs3",
        "colab_type": "code",
        "outputId": "627df575-e8c6-481f-f21b-9fd14a2f163e",
        "colab": {
          "base_uri": "https://localhost:8080/",
          "height": 1547
        }
      },
      "cell_type": "code",
      "source": [
        "inxs = np.arange(len(processed_doc))\n",
        "doc_embedder_gpu.eval()\n",
        "for bch_start in tqdm(range(0, len(processed_doc), 256)):\n",
        "  bch_idx = inxs[bch_start:bch_start + 256]\n",
        "  docs, lens, order = pad_batch(processed_doc[bch_idx], doc_to_idx, max_len=20)\n",
        "  with torch.no_grad():\n",
        "    with torch.cuda.device(0):\n",
        "      docs_embed = doc_embedder_gpu(docs.cuda(), lens.cuda())\n",
        "      true_order = reverse_order(order)\n",
        "    index.addDataPointBatch(docs_embed[true_order].cpu().numpy(), bch_idx)"
      ],
      "execution_count": 0,
      "outputs": [
        {
          "output_type": "stream",
          "text": [
            "\n",
            "  0%|          | 0/258 [00:00<?, ?it/s]\u001b[A\n",
            "  1%|          | 2/258 [00:00<00:16, 15.82it/s]\u001b[A\n",
            "  2%|▏         | 4/258 [00:00<00:15, 16.07it/s]\u001b[A\n",
            "  2%|▏         | 6/258 [00:00<00:15, 16.29it/s]\u001b[A\n",
            "  3%|▎         | 8/258 [00:00<00:14, 16.74it/s]\u001b[A\n",
            "  4%|▍         | 10/258 [00:00<00:14, 17.05it/s]\u001b[A\n",
            "  5%|▍         | 12/258 [00:00<00:13, 17.73it/s]\u001b[A\n",
            "  6%|▌         | 15/258 [00:00<00:12, 18.72it/s]\u001b[A\n",
            "  7%|▋         | 18/258 [00:00<00:12, 19.39it/s]\u001b[A\n",
            "  8%|▊         | 21/258 [00:01<00:11, 19.89it/s]\u001b[A\n",
            "  9%|▉         | 24/258 [00:01<00:11, 20.64it/s]\u001b[A\n",
            " 10%|█         | 27/258 [00:01<00:11, 20.80it/s]\u001b[A\n",
            " 12%|█▏        | 30/258 [00:01<00:10, 21.38it/s]\u001b[A\n",
            " 13%|█▎        | 33/258 [00:01<00:10, 21.78it/s]\u001b[A\n",
            " 14%|█▍        | 36/258 [00:01<00:09, 22.28it/s]\u001b[A\n",
            " 15%|█▌        | 39/258 [00:01<00:09, 22.84it/s]\u001b[A\n",
            " 16%|█▋        | 42/258 [00:02<00:09, 22.53it/s]\u001b[A\n",
            " 17%|█▋        | 45/258 [00:02<00:09, 22.65it/s]\u001b[A\n",
            " 19%|█▊        | 48/258 [00:02<00:09, 22.62it/s]\u001b[A\n",
            " 20%|█▉        | 51/258 [00:02<00:08, 23.13it/s]\u001b[A\n",
            " 21%|██        | 54/258 [00:02<00:08, 23.00it/s]\u001b[A\n",
            " 22%|██▏       | 57/258 [00:02<00:08, 22.68it/s]\u001b[A\n",
            " 23%|██▎       | 60/258 [00:02<00:08, 22.28it/s]\u001b[A\n",
            " 24%|██▍       | 63/258 [00:02<00:08, 21.98it/s]\u001b[A\n",
            " 26%|██▌       | 66/258 [00:03<00:08, 21.75it/s]\u001b[A\n",
            " 27%|██▋       | 69/258 [00:03<00:08, 21.64it/s]\u001b[A\n",
            " 28%|██▊       | 72/258 [00:03<00:08, 21.30it/s]\u001b[A\n",
            " 29%|██▉       | 75/258 [00:03<00:08, 21.20it/s]\u001b[A\n",
            " 30%|███       | 78/258 [00:03<00:08, 21.49it/s]\u001b[A\n",
            " 31%|███▏      | 81/258 [00:03<00:08, 21.35it/s]\u001b[A\n",
            " 33%|███▎      | 84/258 [00:03<00:08, 21.21it/s]\u001b[A\n",
            " 34%|███▎      | 87/258 [00:04<00:08, 21.09it/s]\u001b[A\n",
            " 35%|███▍      | 90/258 [00:04<00:07, 21.52it/s]\u001b[A\n",
            " 36%|███▌      | 93/258 [00:04<00:07, 21.70it/s]\u001b[A\n",
            " 37%|███▋      | 96/258 [00:04<00:07, 22.07it/s]\u001b[A\n",
            " 38%|███▊      | 99/258 [00:04<00:07, 22.31it/s]\u001b[A\n",
            " 40%|███▉      | 102/258 [00:04<00:06, 22.37it/s]\u001b[A\n",
            " 41%|████      | 105/258 [00:04<00:06, 22.27it/s]\u001b[A\n",
            " 42%|████▏     | 108/258 [00:05<00:06, 22.37it/s]\u001b[A\n",
            " 43%|████▎     | 111/258 [00:05<00:06, 22.52it/s]\u001b[A\n",
            " 44%|████▍     | 114/258 [00:05<00:06, 22.49it/s]\u001b[A\n",
            " 45%|████▌     | 117/258 [00:05<00:06, 22.05it/s]\u001b[A\n",
            " 47%|████▋     | 120/258 [00:05<00:06, 22.17it/s]\u001b[A\n",
            " 48%|████▊     | 123/258 [00:05<00:06, 22.02it/s]\u001b[A\n",
            " 49%|████▉     | 126/258 [00:05<00:06, 21.91it/s]\u001b[A\n",
            " 50%|█████     | 129/258 [00:05<00:05, 22.12it/s]\u001b[A\n",
            " 51%|█████     | 132/258 [00:06<00:05, 21.95it/s]\u001b[A\n",
            " 52%|█████▏    | 135/258 [00:06<00:05, 21.72it/s]\u001b[A\n",
            " 53%|█████▎    | 138/258 [00:06<00:05, 21.22it/s]\u001b[A\n",
            " 55%|█████▍    | 141/258 [00:06<00:05, 21.26it/s]\u001b[A\n",
            " 56%|█████▌    | 144/258 [00:06<00:05, 21.48it/s]\u001b[A\n",
            " 57%|█████▋    | 147/258 [00:06<00:05, 21.74it/s]\u001b[A\n",
            " 58%|█████▊    | 150/258 [00:06<00:04, 21.94it/s]\u001b[A\n",
            " 59%|█████▉    | 153/258 [00:07<00:04, 21.26it/s]\u001b[A\n",
            " 60%|██████    | 156/258 [00:07<00:04, 21.64it/s]\u001b[A\n",
            " 62%|██████▏   | 159/258 [00:07<00:04, 21.39it/s]\u001b[A\n",
            " 63%|██████▎   | 162/258 [00:07<00:04, 21.00it/s]\u001b[A\n",
            " 64%|██████▍   | 165/258 [00:07<00:04, 21.20it/s]\u001b[A\n",
            " 65%|██████▌   | 168/258 [00:07<00:04, 21.17it/s]\u001b[A\n",
            " 66%|██████▋   | 171/258 [00:07<00:04, 21.29it/s]\u001b[A\n",
            " 67%|██████▋   | 174/258 [00:08<00:03, 21.41it/s]\u001b[A\n",
            " 69%|██████▊   | 177/258 [00:08<00:03, 21.60it/s]\u001b[A\n",
            " 70%|██████▉   | 180/258 [00:08<00:03, 21.60it/s]\u001b[A\n",
            " 71%|███████   | 183/258 [00:08<00:03, 21.75it/s]\u001b[A\n",
            " 72%|███████▏  | 186/258 [00:08<00:03, 21.81it/s]\u001b[A\n",
            " 73%|███████▎  | 189/258 [00:08<00:03, 21.71it/s]\u001b[A\n",
            " 74%|███████▍  | 192/258 [00:08<00:03, 21.52it/s]\u001b[A\n",
            " 76%|███████▌  | 195/258 [00:09<00:02, 21.26it/s]\u001b[A\n",
            " 77%|███████▋  | 198/258 [00:09<00:02, 21.45it/s]\u001b[A\n",
            " 78%|███████▊  | 201/258 [00:09<00:02, 21.15it/s]\u001b[A\n",
            " 79%|███████▉  | 204/258 [00:09<00:02, 21.04it/s]\u001b[A\n",
            " 80%|████████  | 207/258 [00:09<00:02, 21.12it/s]\u001b[A\n",
            " 81%|████████▏ | 210/258 [00:09<00:02, 21.43it/s]\u001b[A\n",
            " 83%|████████▎ | 213/258 [00:09<00:02, 21.41it/s]\u001b[A\n",
            " 84%|████████▎ | 216/258 [00:10<00:01, 21.60it/s]\u001b[A\n",
            " 85%|████████▍ | 219/258 [00:10<00:01, 21.62it/s]\u001b[A\n",
            " 86%|████████▌ | 222/258 [00:10<00:01, 21.37it/s]\u001b[A\n",
            " 87%|████████▋ | 225/258 [00:10<00:01, 21.45it/s]\u001b[A\n",
            " 88%|████████▊ | 228/258 [00:10<00:01, 21.99it/s]\u001b[A\n",
            " 90%|████████▉ | 231/258 [00:10<00:01, 21.93it/s]\u001b[A\n",
            " 91%|█████████ | 234/258 [00:10<00:01, 21.62it/s]\u001b[A\n",
            " 92%|█████████▏| 237/258 [00:11<00:00, 21.79it/s]\u001b[A\n",
            " 93%|█████████▎| 240/258 [00:11<00:00, 21.85it/s]\u001b[A\n",
            " 94%|█████████▍| 243/258 [00:11<00:00, 22.06it/s]\u001b[A\n",
            " 95%|█████████▌| 246/258 [00:11<00:00, 21.67it/s]\u001b[A\n",
            " 97%|█████████▋| 249/258 [00:11<00:00, 21.46it/s]\u001b[A\n",
            " 98%|█████████▊| 252/258 [00:11<00:00, 20.90it/s]\u001b[A\n",
            " 99%|█████████▉| 255/258 [00:11<00:00, 21.03it/s]\u001b[A\n",
            "100%|██████████| 258/258 [00:12<00:00, 21.66it/s]\u001b[A\n",
            "\u001b[A"
          ],
          "name": "stderr"
        }
      ]
    },
    {
      "metadata": {
        "id": "IXjC_sClFhbE",
        "colab_type": "code",
        "outputId": "12225abf-bd06-41e3-bbb8-f46b06b5c40b",
        "colab": {
          "base_uri": "https://localhost:8080/",
          "height": 51
        }
      },
      "cell_type": "code",
      "source": [
        "%%time\n",
        "index.createIndex({'efConstruction': 1500, 'M':100, 'indexThreadQty': 16, 'post': 0}, print_progress=True)"
      ],
      "execution_count": 0,
      "outputs": [
        {
          "output_type": "stream",
          "text": [
            "CPU times: user 15min 15s, sys: 1.25 s, total: 15min 17s\n",
            "Wall time: 7min 47s\n"
          ],
          "name": "stdout"
        }
      ]
    },
    {
      "metadata": {
        "id": "-pXF2ZUEAPyC",
        "colab_type": "code",
        "outputId": "f26f815f-7c8d-471f-8653-58b0ffd0cef8",
        "colab": {
          "base_uri": "https://localhost:8080/",
          "height": 51
        }
      },
      "cell_type": "code",
      "source": [
        "%%time\n",
        "index.setQueryTimeParams({'efSearch': 1500})"
      ],
      "execution_count": 0,
      "outputs": [
        {
          "output_type": "stream",
          "text": [
            "CPU times: user 71 µs, sys: 17 µs, total: 88 µs\n",
            "Wall time: 94.2 µs\n"
          ],
          "name": "stdout"
        }
      ]
    },
    {
      "metadata": {
        "id": "4_ibHHOd6Gyv",
        "colab_type": "code",
        "colab": {}
      },
      "cell_type": "code",
      "source": [
        "test_data['query'] = [process_string(str(s)) for s in test_data['query'].values]"
      ],
      "execution_count": 0,
      "outputs": []
    },
    {
      "metadata": {
        "id": "PkulhxqW6G4m",
        "colab_type": "code",
        "outputId": "a46aac73-cc79-4505-f84d-c0123f27d283",
        "colab": {
          "base_uri": "https://localhost:8080/",
          "height": 136
        }
      },
      "cell_type": "code",
      "source": [
        "test_data.info()"
      ],
      "execution_count": 0,
      "outputs": [
        {
          "output_type": "stream",
          "text": [
            "<class 'pandas.core.frame.DataFrame'>\n",
            "RangeIndex: 137986 entries, 0 to 137985\n",
            "Data columns (total 2 columns):\n",
            "query    137986 non-null object\n",
            "doc      137986 non-null object\n",
            "dtypes: object(2)\n",
            "memory usage: 2.1+ MB\n"
          ],
          "name": "stdout"
        }
      ]
    },
    {
      "metadata": {
        "id": "uVIbwgkg6G-m",
        "colab_type": "code",
        "outputId": "037c65e7-04f5-4530-fb46-47a2e74c9b88",
        "colab": {
          "base_uri": "https://localhost:8080/",
          "height": 136
        }
      },
      "cell_type": "code",
      "source": [
        "test_data.fillna('youtube', inplace=True)\n",
        "test_data.info()"
      ],
      "execution_count": 0,
      "outputs": [
        {
          "output_type": "stream",
          "text": [
            "<class 'pandas.core.frame.DataFrame'>\n",
            "RangeIndex: 137986 entries, 0 to 137985\n",
            "Data columns (total 2 columns):\n",
            "query    137986 non-null object\n",
            "doc      137986 non-null object\n",
            "dtypes: object(2)\n",
            "memory usage: 2.1+ MB\n"
          ],
          "name": "stdout"
        }
      ]
    },
    {
      "metadata": {
        "id": "xNYyCocq6HFu",
        "colab_type": "code",
        "outputId": "d98c51ce-5f54-469c-b024-7ec61cf43ca7",
        "colab": {
          "base_uri": "https://localhost:8080/",
          "height": 204
        }
      },
      "cell_type": "code",
      "source": [
        "test_data.head()"
      ],
      "execution_count": 0,
      "outputs": [
        {
          "output_type": "execute_result",
          "data": {
            "text/html": [
              "<div>\n",
              "<style scoped>\n",
              "    .dataframe tbody tr th:only-of-type {\n",
              "        vertical-align: middle;\n",
              "    }\n",
              "\n",
              "    .dataframe tbody tr th {\n",
              "        vertical-align: top;\n",
              "    }\n",
              "\n",
              "    .dataframe thead th {\n",
              "        text-align: right;\n",
              "    }\n",
              "</style>\n",
              "<table border=\"1\" class=\"dataframe\">\n",
              "  <thead>\n",
              "    <tr style=\"text-align: right;\">\n",
              "      <th></th>\n",
              "      <th>query</th>\n",
              "      <th>doc</th>\n",
              "    </tr>\n",
              "  </thead>\n",
              "  <tbody>\n",
              "    <tr>\n",
              "      <th>0</th>\n",
              "      <td>there are two rivers in the city the selenga</td>\n",
              "      <td>/wiki/Sampling_(statistics)</td>\n",
              "    </tr>\n",
              "    <tr>\n",
              "      <th>1</th>\n",
              "      <td>biriani spice</td>\n",
              "      <td>/wiki/Isaac_Asimov</td>\n",
              "    </tr>\n",
              "    <tr>\n",
              "      <th>2</th>\n",
              "      <td>бернли команда</td>\n",
              "      <td>/wiki/Your_Name</td>\n",
              "    </tr>\n",
              "    <tr>\n",
              "      <th>3</th>\n",
              "      <td>he 114</td>\n",
              "      <td>/wiki/Middle_Way</td>\n",
              "    </tr>\n",
              "    <tr>\n",
              "      <th>4</th>\n",
              "      <td>википедия про мегатрона из кино 3 википедия</td>\n",
              "      <td>/wiki/Prince_of_Wales</td>\n",
              "    </tr>\n",
              "  </tbody>\n",
              "</table>\n",
              "</div>"
            ],
            "text/plain": [
              "                                          query                          doc\n",
              "0  there are two rivers in the city the selenga  /wiki/Sampling_(statistics)\n",
              "1                                 biriani spice           /wiki/Isaac_Asimov\n",
              "2                                бернли команда              /wiki/Your_Name\n",
              "3                                        he 114             /wiki/Middle_Way\n",
              "4   википедия про мегатрона из кино 3 википедия        /wiki/Prince_of_Wales"
            ]
          },
          "metadata": {
            "tags": []
          },
          "execution_count": 104
        }
      ]
    },
    {
      "metadata": {
        "id": "oGbNYozwHwd-",
        "colab_type": "code",
        "outputId": "c0728a5b-e947-4bcf-9e38-4d62084611e0",
        "colab": {
          "base_uri": "https://localhost:8080/",
          "height": 204
        }
      },
      "cell_type": "code",
      "source": [
        "test_data['doc'] = ['/wiki/Main'] * len(test_data)\n",
        "test_data.head()"
      ],
      "execution_count": 0,
      "outputs": [
        {
          "output_type": "execute_result",
          "data": {
            "text/html": [
              "<div>\n",
              "<style scoped>\n",
              "    .dataframe tbody tr th:only-of-type {\n",
              "        vertical-align: middle;\n",
              "    }\n",
              "\n",
              "    .dataframe tbody tr th {\n",
              "        vertical-align: top;\n",
              "    }\n",
              "\n",
              "    .dataframe thead th {\n",
              "        text-align: right;\n",
              "    }\n",
              "</style>\n",
              "<table border=\"1\" class=\"dataframe\">\n",
              "  <thead>\n",
              "    <tr style=\"text-align: right;\">\n",
              "      <th></th>\n",
              "      <th>query</th>\n",
              "      <th>doc</th>\n",
              "    </tr>\n",
              "  </thead>\n",
              "  <tbody>\n",
              "    <tr>\n",
              "      <th>0</th>\n",
              "      <td>there are two rivers in the city the selenga</td>\n",
              "      <td>/wiki/Main</td>\n",
              "    </tr>\n",
              "    <tr>\n",
              "      <th>1</th>\n",
              "      <td>biriani spice</td>\n",
              "      <td>/wiki/Main</td>\n",
              "    </tr>\n",
              "    <tr>\n",
              "      <th>2</th>\n",
              "      <td>бернли команда</td>\n",
              "      <td>/wiki/Main</td>\n",
              "    </tr>\n",
              "    <tr>\n",
              "      <th>3</th>\n",
              "      <td>he 114</td>\n",
              "      <td>/wiki/Main</td>\n",
              "    </tr>\n",
              "    <tr>\n",
              "      <th>4</th>\n",
              "      <td>википедия про мегатрона из кино 3 википедия</td>\n",
              "      <td>/wiki/Main</td>\n",
              "    </tr>\n",
              "  </tbody>\n",
              "</table>\n",
              "</div>"
            ],
            "text/plain": [
              "                                          query         doc\n",
              "0  there are two rivers in the city the selenga  /wiki/Main\n",
              "1                                 biriani spice  /wiki/Main\n",
              "2                                бернли команда  /wiki/Main\n",
              "3                                        he 114  /wiki/Main\n",
              "4   википедия про мегатрона из кино 3 википедия  /wiki/Main"
            ]
          },
          "metadata": {
            "tags": []
          },
          "execution_count": 73
        }
      ]
    },
    {
      "metadata": {
        "id": "2EA224PAKDsb",
        "colab_type": "code",
        "outputId": "2a983409-6ced-4ac5-a6d8-111df93610dd",
        "colab": {
          "base_uri": "https://localhost:8080/",
          "height": 51
        }
      },
      "cell_type": "code",
      "source": [
        "index.knnQueryBatch([[0.1] * 1024, [0.2] * 1024], k=1, num_threads=4)"
      ],
      "execution_count": 0,
      "outputs": [
        {
          "output_type": "execute_result",
          "data": {
            "text/plain": [
              "[(array([18231], dtype=int32), array([0.9215398], dtype=float32)),\n",
              " (array([18231], dtype=int32), array([0.9215398], dtype=float32))]"
            ]
          },
          "metadata": {
            "tags": []
          },
          "execution_count": 105
        }
      ]
    },
    {
      "metadata": {
        "id": "28xhreG8L50r",
        "colab_type": "code",
        "colab": {}
      },
      "cell_type": "code",
      "source": [
        "from tqdm import tqdm"
      ],
      "execution_count": 0,
      "outputs": []
    },
    {
      "metadata": {
        "id": "tDmqtsLxISl7",
        "colab_type": "code",
        "outputId": "1472480c-345c-42e9-e4fd-cc35ad2465c2",
        "colab": {
          "base_uri": "https://localhost:8080/",
          "height": 4641
        }
      },
      "cell_type": "code",
      "source": [
        "inxs = np.arange(len(test_data))\n",
        "query_embedder_gpu.eval()\n",
        "for bch_start in tqdm(range(0, len(test_data), 512)):\n",
        "  bch_idx = inxs[bch_start:bch_start + 512]\n",
        "  batch = test_data.iloc[bch_idx]\n",
        "  queries, lens, order = pad_batch(batch['query'].values, query_to_idx, max_len=20)\n",
        "  with torch.no_grad():\n",
        "    with torch.cuda.device(0):\n",
        "      query_embed = query_embedder_gpu(queries.cuda(), lens.cuda())\n",
        "      true_order = reverse_order(order)\n",
        "    res = index.knnQueryBatch(query_embed[true_order].cpu().numpy(), k=1, num_threads=16)\n",
        "  doc_res = [processed_doc[r[0][0]] for r in res]\n",
        "  true_doc_name = [processed_original_doc[doc] for doc in doc_res]\n",
        "  test_data.loc[bch_idx, 'doc'] = true_doc_name"
      ],
      "execution_count": 0,
      "outputs": [
        {
          "output_type": "stream",
          "text": [
            "\n",
            "  0%|          | 0/270 [00:00<?, ?it/s]\u001b[A\n",
            "  0%|          | 1/270 [00:01<05:10,  1.15s/it]\u001b[A\n",
            "  1%|          | 2/270 [00:02<05:34,  1.25s/it]\u001b[A\n",
            "  1%|          | 3/270 [00:04<06:02,  1.36s/it]\u001b[A\n",
            "  1%|▏         | 4/270 [00:05<06:27,  1.46s/it]\u001b[A\n",
            "  2%|▏         | 5/270 [00:07<06:47,  1.54s/it]\u001b[A\n",
            "  2%|▏         | 6/270 [00:09<07:03,  1.61s/it]\u001b[A\n",
            "  3%|▎         | 7/270 [00:11<07:15,  1.66s/it]\u001b[A\n",
            "  3%|▎         | 8/270 [00:12<07:25,  1.70s/it]\u001b[A\n",
            "  3%|▎         | 9/270 [00:14<07:26,  1.71s/it]\u001b[A\n",
            "  4%|▎         | 10/270 [00:16<07:24,  1.71s/it]\u001b[A\n",
            "  4%|▍         | 11/270 [00:18<07:20,  1.70s/it]\u001b[A\n",
            "  4%|▍         | 12/270 [00:19<07:23,  1.72s/it]\u001b[A\n",
            "  5%|▍         | 13/270 [00:21<07:19,  1.71s/it]\u001b[A\n",
            "  5%|▌         | 14/270 [00:23<07:21,  1.72s/it]\u001b[A\n",
            "  6%|▌         | 15/270 [00:25<07:18,  1.72s/it]\u001b[A\n",
            "  6%|▌         | 16/270 [00:26<07:19,  1.73s/it]\u001b[A\n",
            "  6%|▋         | 17/270 [00:28<07:38,  1.81s/it]\u001b[A\n",
            "  7%|▋         | 18/270 [00:30<07:32,  1.79s/it]\u001b[A\n",
            "  7%|▋         | 19/270 [00:32<07:29,  1.79s/it]\u001b[A\n",
            "  7%|▋         | 20/270 [00:34<07:29,  1.80s/it]\u001b[A\n",
            "  8%|▊         | 21/270 [00:35<07:29,  1.81s/it]\u001b[A\n",
            "  8%|▊         | 22/270 [00:37<07:18,  1.77s/it]\u001b[A\n",
            "  9%|▊         | 23/270 [00:39<07:15,  1.76s/it]\u001b[A\n",
            "  9%|▉         | 24/270 [00:41<07:13,  1.76s/it]\u001b[A\n",
            "  9%|▉         | 25/270 [00:42<07:12,  1.77s/it]\u001b[A\n",
            " 10%|▉         | 26/270 [00:44<07:13,  1.78s/it]\u001b[A\n",
            " 10%|█         | 27/270 [00:46<07:09,  1.77s/it]\u001b[A\n",
            " 10%|█         | 28/270 [00:48<07:05,  1.76s/it]\u001b[A\n",
            " 11%|█         | 29/270 [00:50<07:06,  1.77s/it]\u001b[A\n",
            " 11%|█         | 30/270 [00:51<07:06,  1.78s/it]\u001b[A\n",
            " 11%|█▏        | 31/270 [00:53<07:00,  1.76s/it]\u001b[A\n",
            " 12%|█▏        | 32/270 [00:55<06:57,  1.76s/it]\u001b[A\n",
            " 12%|█▏        | 33/270 [00:57<06:54,  1.75s/it]\u001b[A\n",
            " 13%|█▎        | 34/270 [00:58<06:57,  1.77s/it]\u001b[A\n",
            " 13%|█▎        | 35/270 [01:00<06:51,  1.75s/it]\u001b[A\n",
            " 13%|█▎        | 36/270 [01:02<06:53,  1.77s/it]\u001b[A\n",
            " 14%|█▎        | 37/270 [01:04<06:47,  1.75s/it]\u001b[A\n",
            " 14%|█▍        | 38/270 [01:05<06:40,  1.73s/it]\u001b[A\n",
            " 14%|█▍        | 39/270 [01:07<06:40,  1.73s/it]\u001b[A\n",
            " 15%|█▍        | 40/270 [01:09<06:39,  1.74s/it]\u001b[A\n",
            " 15%|█▌        | 41/270 [01:10<06:39,  1.74s/it]\u001b[A\n",
            " 16%|█▌        | 42/270 [01:12<06:39,  1.75s/it]\u001b[A\n",
            " 16%|█▌        | 43/270 [01:14<06:36,  1.74s/it]\u001b[A\n",
            " 16%|█▋        | 44/270 [01:16<06:34,  1.74s/it]\u001b[A\n",
            " 17%|█▋        | 45/270 [01:17<06:33,  1.75s/it]\u001b[A\n",
            " 17%|█▋        | 46/270 [01:19<06:33,  1.76s/it]\u001b[A\n",
            " 17%|█▋        | 47/270 [01:21<06:32,  1.76s/it]\u001b[A\n",
            " 18%|█▊        | 48/270 [01:23<06:32,  1.77s/it]\u001b[A\n",
            " 18%|█▊        | 49/270 [01:25<06:32,  1.78s/it]\u001b[A\n",
            " 19%|█▊        | 50/270 [01:26<06:15,  1.71s/it]\u001b[A\n",
            " 19%|█▉        | 51/270 [01:28<05:59,  1.64s/it]\u001b[A\n",
            " 19%|█▉        | 52/270 [01:29<05:47,  1.59s/it]\u001b[A\n",
            " 20%|█▉        | 53/270 [01:31<05:39,  1.56s/it]\u001b[A\n",
            " 20%|██        | 54/270 [01:32<05:31,  1.54s/it]\u001b[A\n",
            " 20%|██        | 55/270 [01:34<05:27,  1.52s/it]\u001b[A\n",
            " 21%|██        | 56/270 [01:35<05:24,  1.52s/it]\u001b[A\n",
            " 21%|██        | 57/270 [01:37<05:21,  1.51s/it]\u001b[A\n",
            " 21%|██▏       | 58/270 [01:38<05:20,  1.51s/it]\u001b[A\n",
            " 22%|██▏       | 59/270 [01:40<05:21,  1.52s/it]\u001b[A\n",
            " 22%|██▏       | 60/270 [01:41<05:20,  1.53s/it]\u001b[A\n",
            " 23%|██▎       | 61/270 [01:43<05:23,  1.55s/it]\u001b[A\n",
            " 23%|██▎       | 62/270 [01:44<05:21,  1.55s/it]\u001b[A\n",
            " 23%|██▎       | 63/270 [01:46<05:19,  1.54s/it]\u001b[A\n",
            " 24%|██▎       | 64/270 [01:47<05:17,  1.54s/it]\u001b[A\n",
            " 24%|██▍       | 65/270 [01:49<05:15,  1.54s/it]\u001b[A\n",
            " 24%|██▍       | 66/270 [01:50<05:12,  1.53s/it]\u001b[A\n",
            " 25%|██▍       | 67/270 [01:52<05:12,  1.54s/it]\u001b[A\n",
            " 25%|██▌       | 68/270 [01:54<05:10,  1.54s/it]\u001b[A\n",
            " 26%|██▌       | 69/270 [01:55<05:07,  1.53s/it]\u001b[A\n",
            " 26%|██▌       | 70/270 [01:57<05:04,  1.52s/it]\u001b[A\n",
            " 26%|██▋       | 71/270 [01:58<05:08,  1.55s/it]\u001b[A\n",
            " 27%|██▋       | 72/270 [02:00<05:06,  1.55s/it]\u001b[A\n",
            " 27%|██▋       | 73/270 [02:01<05:03,  1.54s/it]\u001b[A\n",
            " 27%|██▋       | 74/270 [02:03<04:59,  1.53s/it]\u001b[A\n",
            " 28%|██▊       | 75/270 [02:04<05:00,  1.54s/it]\u001b[A\n",
            " 28%|██▊       | 76/270 [02:06<04:56,  1.53s/it]\u001b[A\n",
            " 29%|██▊       | 77/270 [02:07<04:54,  1.53s/it]\u001b[A\n",
            " 29%|██▉       | 78/270 [02:09<05:02,  1.58s/it]\u001b[A\n",
            " 29%|██▉       | 79/270 [02:11<05:24,  1.70s/it]\u001b[A\n",
            " 30%|██▉       | 80/270 [02:13<05:34,  1.76s/it]\u001b[A\n",
            " 30%|███       | 81/270 [02:15<05:46,  1.83s/it]\u001b[A\n",
            " 30%|███       | 82/270 [02:17<05:54,  1.89s/it]\u001b[A\n",
            " 31%|███       | 83/270 [02:19<05:59,  1.92s/it]\u001b[A\n",
            " 31%|███       | 84/270 [02:21<05:56,  1.92s/it]\u001b[A\n",
            " 31%|███▏      | 85/270 [02:23<05:55,  1.92s/it]\u001b[A\n",
            " 32%|███▏      | 86/270 [02:25<05:54,  1.93s/it]\u001b[A\n",
            " 32%|███▏      | 87/270 [02:27<05:52,  1.93s/it]\u001b[A\n",
            " 33%|███▎      | 88/270 [02:29<05:54,  1.95s/it]\u001b[A\n",
            " 33%|███▎      | 89/270 [02:31<05:55,  1.96s/it]\u001b[A\n",
            " 33%|███▎      | 90/270 [02:33<05:56,  1.98s/it]\u001b[A\n",
            " 34%|███▎      | 91/270 [02:35<05:55,  1.98s/it]\u001b[A\n",
            " 34%|███▍      | 92/270 [02:37<05:54,  1.99s/it]\u001b[A\n",
            " 34%|███▍      | 93/270 [02:39<05:53,  2.00s/it]\u001b[A\n",
            " 35%|███▍      | 94/270 [02:41<05:53,  2.01s/it]\u001b[A\n",
            " 35%|███▌      | 95/270 [02:43<05:54,  2.03s/it]\u001b[A\n",
            " 36%|███▌      | 96/270 [02:45<05:51,  2.02s/it]\u001b[A\n",
            " 36%|███▌      | 97/270 [02:47<05:52,  2.04s/it]\u001b[A\n",
            " 36%|███▋      | 98/270 [02:49<05:48,  2.02s/it]\u001b[A\n",
            " 37%|███▋      | 99/270 [02:51<05:43,  2.01s/it]\u001b[A\n",
            " 37%|███▋      | 100/270 [02:53<05:39,  2.00s/it]\u001b[A\n",
            " 37%|███▋      | 101/270 [02:55<05:33,  1.98s/it]\u001b[A\n",
            " 38%|███▊      | 102/270 [02:57<05:32,  1.98s/it]\u001b[A\n",
            " 38%|███▊      | 103/270 [02:59<05:30,  1.98s/it]\u001b[A\n",
            " 39%|███▊      | 104/270 [03:01<05:28,  1.98s/it]\u001b[A\n",
            " 39%|███▉      | 105/270 [03:03<05:23,  1.96s/it]\u001b[A\n",
            " 39%|███▉      | 106/270 [03:05<05:21,  1.96s/it]\u001b[A\n",
            " 40%|███▉      | 107/270 [03:07<05:23,  1.98s/it]\u001b[A\n",
            " 40%|████      | 108/270 [03:08<05:19,  1.97s/it]\u001b[A\n",
            " 40%|████      | 109/270 [03:10<05:17,  1.97s/it]\u001b[A\n",
            " 41%|████      | 110/270 [03:12<05:15,  1.97s/it]\u001b[A\n",
            " 41%|████      | 111/270 [03:14<05:12,  1.97s/it]\u001b[A\n",
            " 41%|████▏     | 112/270 [03:16<05:12,  1.98s/it]\u001b[A\n",
            " 42%|████▏     | 113/270 [03:18<05:08,  1.97s/it]\u001b[A\n",
            " 42%|████▏     | 114/270 [03:20<05:09,  1.98s/it]\u001b[A\n",
            " 43%|████▎     | 115/270 [03:22<05:06,  1.98s/it]\u001b[A\n",
            " 43%|████▎     | 116/270 [03:24<05:06,  1.99s/it]\u001b[A\n",
            " 43%|████▎     | 117/270 [03:26<05:02,  1.98s/it]\u001b[A\n",
            " 44%|████▎     | 118/270 [03:28<05:03,  2.00s/it]\u001b[A\n",
            " 44%|████▍     | 119/270 [03:30<04:58,  1.98s/it]\u001b[A\n",
            " 44%|████▍     | 120/270 [03:32<04:56,  1.98s/it]\u001b[A\n",
            " 45%|████▍     | 121/270 [03:34<04:57,  2.00s/it]\u001b[A\n",
            " 45%|████▌     | 122/270 [03:36<04:57,  2.01s/it]\u001b[A\n",
            " 46%|████▌     | 123/270 [03:38<04:56,  2.02s/it]\u001b[A\n",
            " 46%|████▌     | 124/270 [03:40<04:54,  2.02s/it]\u001b[A\n",
            " 46%|████▋     | 125/270 [03:42<04:54,  2.03s/it]\u001b[A\n",
            " 47%|████▋     | 126/270 [03:45<04:54,  2.05s/it]\u001b[A\n",
            " 47%|████▋     | 127/270 [03:46<04:49,  2.02s/it]\u001b[A\n",
            " 47%|████▋     | 128/270 [03:48<04:45,  2.01s/it]\u001b[A\n",
            " 48%|████▊     | 129/270 [03:50<04:42,  2.00s/it]\u001b[A\n",
            " 48%|████▊     | 130/270 [03:52<04:39,  2.00s/it]\u001b[A\n",
            " 49%|████▊     | 131/270 [03:54<04:37,  1.99s/it]\u001b[A\n",
            " 49%|████▉     | 132/270 [03:56<04:33,  1.98s/it]\u001b[A\n",
            " 49%|████▉     | 133/270 [03:58<04:34,  2.00s/it]\u001b[A\n",
            " 50%|████▉     | 134/270 [04:00<04:28,  1.98s/it]\u001b[A\n",
            " 50%|█████     | 135/270 [04:02<04:27,  1.98s/it]\u001b[A\n",
            " 50%|█████     | 136/270 [04:04<04:24,  1.98s/it]\u001b[A\n",
            " 51%|█████     | 137/270 [04:06<04:22,  1.97s/it]\u001b[A\n",
            " 51%|█████     | 138/270 [04:08<04:19,  1.97s/it]\u001b[A\n",
            " 51%|█████▏    | 139/270 [04:10<04:17,  1.97s/it]\u001b[A\n",
            " 52%|█████▏    | 140/270 [04:12<04:19,  1.99s/it]\u001b[A\n",
            " 52%|█████▏    | 141/270 [04:14<04:15,  1.98s/it]\u001b[A\n",
            " 53%|█████▎    | 142/270 [04:16<04:11,  1.97s/it]\u001b[A\n",
            " 53%|█████▎    | 143/270 [04:18<04:06,  1.94s/it]\u001b[A\n",
            " 53%|█████▎    | 144/270 [04:20<04:03,  1.93s/it]\u001b[A\n",
            " 54%|█████▎    | 145/270 [04:22<04:02,  1.94s/it]\u001b[A\n",
            " 54%|█████▍    | 146/270 [04:24<04:00,  1.94s/it]\u001b[A\n",
            " 54%|█████▍    | 147/270 [04:26<03:56,  1.93s/it]\u001b[A\n",
            " 55%|█████▍    | 148/270 [04:28<03:52,  1.91s/it]\u001b[A\n",
            " 55%|█████▌    | 149/270 [04:29<03:51,  1.91s/it]\u001b[A\n",
            " 56%|█████▌    | 150/270 [04:31<03:49,  1.91s/it]\u001b[A\n",
            " 56%|█████▌    | 151/270 [04:33<03:46,  1.91s/it]\u001b[A\n",
            " 56%|█████▋    | 152/270 [04:35<03:44,  1.90s/it]\u001b[A\n",
            " 57%|█████▋    | 153/270 [04:37<03:39,  1.87s/it]\u001b[A\n",
            " 57%|█████▋    | 154/270 [04:39<03:30,  1.82s/it]\u001b[A\n",
            " 57%|█████▋    | 155/270 [04:40<03:27,  1.80s/it]\u001b[A\n",
            " 58%|█████▊    | 156/270 [04:42<03:21,  1.77s/it]\u001b[A\n",
            " 58%|█████▊    | 157/270 [04:44<03:17,  1.75s/it]\u001b[A\n",
            " 59%|█████▊    | 158/270 [04:45<03:07,  1.67s/it]\u001b[A\n",
            " 59%|█████▉    | 159/270 [04:47<03:00,  1.62s/it]\u001b[A\n",
            " 59%|█████▉    | 160/270 [04:48<02:53,  1.58s/it]\u001b[A\n",
            " 60%|█████▉    | 161/270 [04:50<02:49,  1.56s/it]\u001b[A\n",
            " 60%|██████    | 162/270 [04:51<02:46,  1.55s/it]\u001b[A\n",
            " 60%|██████    | 163/270 [04:53<02:45,  1.55s/it]\u001b[A\n",
            " 61%|██████    | 164/270 [04:54<02:44,  1.55s/it]\u001b[A\n",
            " 61%|██████    | 165/270 [04:56<02:41,  1.54s/it]\u001b[A\n",
            " 61%|██████▏   | 166/270 [04:57<02:38,  1.52s/it]\u001b[A\n",
            " 62%|██████▏   | 167/270 [04:59<02:37,  1.53s/it]\u001b[A\n",
            " 62%|██████▏   | 168/270 [05:01<02:36,  1.53s/it]\u001b[A\n",
            " 63%|██████▎   | 169/270 [05:02<02:33,  1.52s/it]\u001b[A\n",
            " 63%|██████▎   | 170/270 [05:04<02:32,  1.53s/it]\u001b[A\n",
            " 63%|██████▎   | 171/270 [05:05<02:37,  1.59s/it]\u001b[A\n",
            " 64%|██████▎   | 172/270 [05:07<02:38,  1.61s/it]\u001b[A\n",
            " 64%|██████▍   | 173/270 [05:09<02:34,  1.60s/it]\u001b[A\n",
            " 64%|██████▍   | 174/270 [05:10<02:30,  1.57s/it]\u001b[A\n",
            " 65%|██████▍   | 175/270 [05:12<02:28,  1.57s/it]\u001b[A\n",
            " 65%|██████▌   | 176/270 [05:13<02:25,  1.54s/it]\u001b[A\n",
            " 66%|██████▌   | 177/270 [05:15<02:22,  1.53s/it]\u001b[A\n",
            " 66%|██████▌   | 178/270 [05:16<02:19,  1.52s/it]\u001b[A\n",
            " 66%|██████▋   | 179/270 [05:18<02:18,  1.53s/it]\u001b[A\n",
            " 67%|██████▋   | 180/270 [05:19<02:16,  1.52s/it]\u001b[A\n",
            " 67%|██████▋   | 181/270 [05:21<02:14,  1.51s/it]\u001b[A\n",
            " 67%|██████▋   | 182/270 [05:22<02:12,  1.50s/it]\u001b[A\n",
            " 68%|██████▊   | 183/270 [05:24<02:09,  1.48s/it]\u001b[A\n",
            " 68%|██████▊   | 184/270 [05:25<02:07,  1.48s/it]\u001b[A\n",
            " 69%|██████▊   | 185/270 [05:26<02:05,  1.48s/it]\u001b[A\n",
            " 69%|██████▉   | 186/270 [05:28<02:04,  1.49s/it]\u001b[A\n",
            " 69%|██████▉   | 187/270 [05:29<02:03,  1.49s/it]\u001b[A\n",
            " 70%|██████▉   | 188/270 [05:31<02:02,  1.49s/it]\u001b[A\n",
            " 70%|███████   | 189/270 [05:32<02:01,  1.50s/it]\u001b[A\n",
            " 70%|███████   | 190/270 [05:34<01:58,  1.49s/it]\u001b[A\n",
            " 71%|███████   | 191/270 [05:35<01:58,  1.50s/it]\u001b[A\n",
            " 71%|███████   | 192/270 [05:37<01:56,  1.49s/it]\u001b[A\n",
            " 71%|███████▏  | 193/270 [05:38<01:54,  1.49s/it]\u001b[A\n",
            " 72%|███████▏  | 194/270 [05:40<01:53,  1.49s/it]\u001b[A\n",
            " 72%|███████▏  | 195/270 [05:41<01:51,  1.48s/it]\u001b[A\n",
            " 73%|███████▎  | 196/270 [05:43<01:50,  1.49s/it]\u001b[A\n",
            " 73%|███████▎  | 197/270 [05:44<01:48,  1.49s/it]\u001b[A\n",
            " 73%|███████▎  | 198/270 [05:46<01:47,  1.50s/it]\u001b[A\n",
            " 74%|███████▎  | 199/270 [05:47<01:46,  1.50s/it]\u001b[A\n",
            " 74%|███████▍  | 200/270 [05:49<01:45,  1.51s/it]\u001b[A\n",
            " 74%|███████▍  | 201/270 [05:50<01:43,  1.51s/it]\u001b[A\n",
            " 75%|███████▍  | 202/270 [05:52<01:42,  1.50s/it]\u001b[A\n",
            " 75%|███████▌  | 203/270 [05:53<01:40,  1.50s/it]\u001b[A\n",
            " 76%|███████▌  | 204/270 [05:55<01:39,  1.50s/it]\u001b[A\n",
            " 76%|███████▌  | 205/270 [05:56<01:38,  1.51s/it]\u001b[A\n",
            " 76%|███████▋  | 206/270 [05:58<01:37,  1.52s/it]\u001b[A\n",
            " 77%|███████▋  | 207/270 [06:00<01:35,  1.52s/it]\u001b[A\n",
            " 77%|███████▋  | 208/270 [06:01<01:33,  1.51s/it]\u001b[A\n",
            " 77%|███████▋  | 209/270 [06:03<01:31,  1.50s/it]\u001b[A\n",
            " 78%|███████▊  | 210/270 [06:04<01:30,  1.51s/it]\u001b[A\n",
            " 78%|███████▊  | 211/270 [06:06<01:29,  1.51s/it]\u001b[A\n",
            " 79%|███████▊  | 212/270 [06:07<01:27,  1.51s/it]\u001b[A\n",
            " 79%|███████▉  | 213/270 [06:09<01:26,  1.52s/it]\u001b[A\n",
            " 79%|███████▉  | 214/270 [06:10<01:27,  1.56s/it]\u001b[A\n",
            " 80%|███████▉  | 215/270 [06:12<01:30,  1.65s/it]\u001b[A\n",
            " 80%|████████  | 216/270 [06:14<01:34,  1.74s/it]\u001b[A\n",
            " 80%|████████  | 217/270 [06:16<01:38,  1.86s/it]\u001b[A\n",
            " 81%|████████  | 218/270 [06:18<01:37,  1.88s/it]\u001b[A\n",
            " 81%|████████  | 219/270 [06:20<01:37,  1.90s/it]\u001b[A\n",
            " 81%|████████▏ | 220/270 [06:22<01:35,  1.90s/it]\u001b[A\n",
            " 82%|████████▏ | 221/270 [06:24<01:34,  1.93s/it]\u001b[A\n",
            " 82%|████████▏ | 222/270 [06:26<01:33,  1.95s/it]\u001b[A\n",
            " 83%|████████▎ | 223/270 [06:28<01:31,  1.95s/it]\u001b[A\n",
            " 83%|████████▎ | 224/270 [06:30<01:30,  1.96s/it]\u001b[A\n",
            " 83%|████████▎ | 225/270 [06:32<01:29,  1.99s/it]\u001b[A\n",
            " 84%|████████▎ | 226/270 [06:34<01:27,  1.98s/it]\u001b[A\n",
            " 84%|████████▍ | 227/270 [06:36<01:26,  2.01s/it]\u001b[A\n",
            " 84%|████████▍ | 228/270 [06:38<01:23,  1.99s/it]\u001b[A\n",
            " 85%|████████▍ | 229/270 [06:40<01:22,  2.01s/it]\u001b[A\n",
            " 85%|████████▌ | 230/270 [06:42<01:20,  2.00s/it]\u001b[A\n",
            " 86%|████████▌ | 231/270 [06:44<01:17,  1.99s/it]\u001b[A\n",
            " 86%|████████▌ | 232/270 [06:46<01:14,  1.97s/it]\u001b[A\n",
            " 86%|████████▋ | 233/270 [06:48<01:12,  1.96s/it]\u001b[A\n",
            " 87%|████████▋ | 234/270 [06:50<01:10,  1.96s/it]\u001b[A\n",
            " 87%|████████▋ | 235/270 [06:52<01:08,  1.95s/it]\u001b[A\n",
            " 87%|████████▋ | 236/270 [06:54<01:05,  1.93s/it]\u001b[A\n",
            " 88%|████████▊ | 237/270 [06:56<01:03,  1.94s/it]\u001b[A\n",
            " 88%|████████▊ | 238/270 [06:57<01:01,  1.92s/it]\u001b[A\n",
            " 89%|████████▊ | 239/270 [06:59<00:59,  1.93s/it]\u001b[A\n",
            " 89%|████████▉ | 240/270 [07:01<00:57,  1.93s/it]\u001b[A\n",
            " 89%|████████▉ | 241/270 [07:03<00:56,  1.94s/it]\u001b[A\n",
            " 90%|████████▉ | 242/270 [07:05<00:54,  1.95s/it]\u001b[A\n",
            " 90%|█████████ | 243/270 [07:07<00:52,  1.95s/it]\u001b[A\n",
            " 90%|█████████ | 244/270 [07:09<00:50,  1.93s/it]\u001b[A\n",
            " 91%|█████████ | 245/270 [07:11<00:48,  1.93s/it]\u001b[A\n",
            " 91%|█████████ | 246/270 [07:13<00:46,  1.96s/it]\u001b[A\n",
            " 91%|█████████▏| 247/270 [07:15<00:45,  1.96s/it]\u001b[A\n",
            " 92%|█████████▏| 248/270 [07:17<00:43,  1.97s/it]\u001b[A\n",
            " 92%|█████████▏| 249/270 [07:19<00:41,  1.98s/it]\u001b[A\n",
            " 93%|█████████▎| 250/270 [07:21<00:39,  1.97s/it]\u001b[A\n",
            " 93%|█████████▎| 251/270 [07:23<00:37,  1.95s/it]\u001b[A\n",
            " 93%|█████████▎| 252/270 [07:25<00:35,  1.96s/it]\u001b[A\n",
            " 94%|█████████▎| 253/270 [07:27<00:33,  1.95s/it]\u001b[A\n",
            " 94%|█████████▍| 254/270 [07:29<00:30,  1.93s/it]\u001b[A\n",
            " 94%|█████████▍| 255/270 [07:31<00:29,  1.95s/it]\u001b[A\n",
            " 95%|█████████▍| 256/270 [07:33<00:27,  1.95s/it]\u001b[A\n",
            " 95%|█████████▌| 257/270 [07:35<00:25,  1.97s/it]\u001b[A\n",
            " 96%|█████████▌| 258/270 [07:37<00:23,  1.97s/it]\u001b[A\n",
            " 96%|█████████▌| 259/270 [07:39<00:21,  1.97s/it]\u001b[A\n",
            " 96%|█████████▋| 260/270 [07:41<00:20,  2.00s/it]\u001b[A\n",
            " 97%|█████████▋| 261/270 [07:43<00:18,  2.00s/it]\u001b[A\n",
            " 97%|█████████▋| 262/270 [07:45<00:15,  1.98s/it]\u001b[A\n",
            " 97%|█████████▋| 263/270 [07:46<00:13,  1.97s/it]\u001b[A\n",
            " 98%|█████████▊| 264/270 [07:48<00:11,  1.97s/it]\u001b[A\n",
            " 98%|█████████▊| 265/270 [07:50<00:09,  1.96s/it]\u001b[A\n",
            " 99%|█████████▊| 266/270 [07:52<00:07,  1.95s/it]\u001b[A\n",
            " 99%|█████████▉| 267/270 [07:54<00:05,  1.94s/it]\u001b[A\n",
            " 99%|█████████▉| 268/270 [07:56<00:03,  1.93s/it]\u001b[A\n",
            "100%|█████████▉| 269/270 [07:58<00:01,  1.92s/it]\u001b[A\n",
            "100%|██████████| 270/270 [07:59<00:00,  1.65s/it]\u001b[A\n",
            "\u001b[A"
          ],
          "name": "stderr"
        }
      ]
    },
    {
      "metadata": {
        "id": "bOzWcd7BLIvf",
        "colab_type": "code",
        "outputId": "ac68a514-d3f6-48de-88ef-56957b65bb36",
        "colab": {
          "base_uri": "https://localhost:8080/",
          "height": 359
        }
      },
      "cell_type": "code",
      "source": [
        "test_data.head(10)"
      ],
      "execution_count": 0,
      "outputs": [
        {
          "output_type": "execute_result",
          "data": {
            "text/html": [
              "<div>\n",
              "<style scoped>\n",
              "    .dataframe tbody tr th:only-of-type {\n",
              "        vertical-align: middle;\n",
              "    }\n",
              "\n",
              "    .dataframe tbody tr th {\n",
              "        vertical-align: top;\n",
              "    }\n",
              "\n",
              "    .dataframe thead th {\n",
              "        text-align: right;\n",
              "    }\n",
              "</style>\n",
              "<table border=\"1\" class=\"dataframe\">\n",
              "  <thead>\n",
              "    <tr style=\"text-align: right;\">\n",
              "      <th></th>\n",
              "      <th>query</th>\n",
              "      <th>doc</th>\n",
              "    </tr>\n",
              "  </thead>\n",
              "  <tbody>\n",
              "    <tr>\n",
              "      <th>0</th>\n",
              "      <td>there are two rivers in the city the selenga</td>\n",
              "      <td>/wiki/Diagram</td>\n",
              "    </tr>\n",
              "    <tr>\n",
              "      <th>1</th>\n",
              "      <td>biriani spice</td>\n",
              "      <td>/wiki/Diagram</td>\n",
              "    </tr>\n",
              "    <tr>\n",
              "      <th>2</th>\n",
              "      <td>бернли команда</td>\n",
              "      <td>/wiki/Diagram</td>\n",
              "    </tr>\n",
              "    <tr>\n",
              "      <th>3</th>\n",
              "      <td>he 114</td>\n",
              "      <td>/wiki/Diagram</td>\n",
              "    </tr>\n",
              "    <tr>\n",
              "      <th>4</th>\n",
              "      <td>википедия про мегатрона из кино 3 википедия</td>\n",
              "      <td>/wiki/Diagram</td>\n",
              "    </tr>\n",
              "    <tr>\n",
              "      <th>5</th>\n",
              "      <td>новый орлеан рок группы начала 00s</td>\n",
              "      <td>/wiki/Diagram</td>\n",
              "    </tr>\n",
              "    <tr>\n",
              "      <th>6</th>\n",
              "      <td>the bella twins</td>\n",
              "      <td>/wiki/Diagram</td>\n",
              "    </tr>\n",
              "    <tr>\n",
              "      <th>7</th>\n",
              "      <td>d c in english</td>\n",
              "      <td>/wiki/Diagram</td>\n",
              "    </tr>\n",
              "    <tr>\n",
              "      <th>8</th>\n",
              "      <td>grade4 аналоги</td>\n",
              "      <td>/wiki/Diagram</td>\n",
              "    </tr>\n",
              "    <tr>\n",
              "      <th>9</th>\n",
              "      <td>трэвис</td>\n",
              "      <td>/wiki/Diagram</td>\n",
              "    </tr>\n",
              "  </tbody>\n",
              "</table>\n",
              "</div>"
            ],
            "text/plain": [
              "                                          query            doc\n",
              "0  there are two rivers in the city the selenga  /wiki/Diagram\n",
              "1                                 biriani spice  /wiki/Diagram\n",
              "2                                бернли команда  /wiki/Diagram\n",
              "3                                        he 114  /wiki/Diagram\n",
              "4   википедия про мегатрона из кино 3 википедия  /wiki/Diagram\n",
              "5            новый орлеан рок группы начала 00s  /wiki/Diagram\n",
              "6                               the bella twins  /wiki/Diagram\n",
              "7                                d c in english  /wiki/Diagram\n",
              "8                                grade4 аналоги  /wiki/Diagram\n",
              "9                                        трэвис  /wiki/Diagram"
            ]
          },
          "metadata": {
            "tags": []
          },
          "execution_count": 108
        }
      ]
    },
    {
      "metadata": {
        "id": "khu3ZU3mHicN",
        "colab_type": "code",
        "outputId": "26cb31c0-8b86-443f-bd29-029383409230",
        "colab": {
          "base_uri": "https://localhost:8080/",
          "height": 204
        }
      },
      "cell_type": "code",
      "source": [
        "sub = pd.read_csv('sample.csv')\n",
        "sub.head()"
      ],
      "execution_count": 0,
      "outputs": [
        {
          "output_type": "execute_result",
          "data": {
            "text/html": [
              "<div>\n",
              "<style scoped>\n",
              "    .dataframe tbody tr th:only-of-type {\n",
              "        vertical-align: middle;\n",
              "    }\n",
              "\n",
              "    .dataframe tbody tr th {\n",
              "        vertical-align: top;\n",
              "    }\n",
              "\n",
              "    .dataframe thead th {\n",
              "        text-align: right;\n",
              "    }\n",
              "</style>\n",
              "<table border=\"1\" class=\"dataframe\">\n",
              "  <thead>\n",
              "    <tr style=\"text-align: right;\">\n",
              "      <th></th>\n",
              "      <th>Id</th>\n",
              "      <th>Category</th>\n",
              "    </tr>\n",
              "  </thead>\n",
              "  <tbody>\n",
              "    <tr>\n",
              "      <th>0</th>\n",
              "      <td>1</td>\n",
              "      <td>/wiki/</td>\n",
              "    </tr>\n",
              "    <tr>\n",
              "      <th>1</th>\n",
              "      <td>2</td>\n",
              "      <td>/wiki/</td>\n",
              "    </tr>\n",
              "    <tr>\n",
              "      <th>2</th>\n",
              "      <td>3</td>\n",
              "      <td>/wiki/</td>\n",
              "    </tr>\n",
              "    <tr>\n",
              "      <th>3</th>\n",
              "      <td>4</td>\n",
              "      <td>/wiki/</td>\n",
              "    </tr>\n",
              "    <tr>\n",
              "      <th>4</th>\n",
              "      <td>5</td>\n",
              "      <td>/wiki/</td>\n",
              "    </tr>\n",
              "  </tbody>\n",
              "</table>\n",
              "</div>"
            ],
            "text/plain": [
              "   Id Category\n",
              "0   1   /wiki/\n",
              "1   2   /wiki/\n",
              "2   3   /wiki/\n",
              "3   4   /wiki/\n",
              "4   5   /wiki/"
            ]
          },
          "metadata": {
            "tags": []
          },
          "execution_count": 109
        }
      ]
    },
    {
      "metadata": {
        "id": "Dtcm73glIcAW",
        "colab_type": "code",
        "outputId": "4f3fe012-a076-4373-8df6-78c873bca09b",
        "colab": {
          "base_uri": "https://localhost:8080/",
          "height": 204
        }
      },
      "cell_type": "code",
      "source": [
        "\n",
        "sub.Category = test_data.doc\n",
        "sub.head()"
      ],
      "execution_count": 0,
      "outputs": [
        {
          "output_type": "execute_result",
          "data": {
            "text/html": [
              "<div>\n",
              "<style scoped>\n",
              "    .dataframe tbody tr th:only-of-type {\n",
              "        vertical-align: middle;\n",
              "    }\n",
              "\n",
              "    .dataframe tbody tr th {\n",
              "        vertical-align: top;\n",
              "    }\n",
              "\n",
              "    .dataframe thead th {\n",
              "        text-align: right;\n",
              "    }\n",
              "</style>\n",
              "<table border=\"1\" class=\"dataframe\">\n",
              "  <thead>\n",
              "    <tr style=\"text-align: right;\">\n",
              "      <th></th>\n",
              "      <th>Id</th>\n",
              "      <th>Category</th>\n",
              "    </tr>\n",
              "  </thead>\n",
              "  <tbody>\n",
              "    <tr>\n",
              "      <th>0</th>\n",
              "      <td>1</td>\n",
              "      <td>/wiki/Diagram</td>\n",
              "    </tr>\n",
              "    <tr>\n",
              "      <th>1</th>\n",
              "      <td>2</td>\n",
              "      <td>/wiki/Diagram</td>\n",
              "    </tr>\n",
              "    <tr>\n",
              "      <th>2</th>\n",
              "      <td>3</td>\n",
              "      <td>/wiki/Diagram</td>\n",
              "    </tr>\n",
              "    <tr>\n",
              "      <th>3</th>\n",
              "      <td>4</td>\n",
              "      <td>/wiki/Diagram</td>\n",
              "    </tr>\n",
              "    <tr>\n",
              "      <th>4</th>\n",
              "      <td>5</td>\n",
              "      <td>/wiki/Diagram</td>\n",
              "    </tr>\n",
              "  </tbody>\n",
              "</table>\n",
              "</div>"
            ],
            "text/plain": [
              "   Id       Category\n",
              "0   1  /wiki/Diagram\n",
              "1   2  /wiki/Diagram\n",
              "2   3  /wiki/Diagram\n",
              "3   4  /wiki/Diagram\n",
              "4   5  /wiki/Diagram"
            ]
          },
          "metadata": {
            "tags": []
          },
          "execution_count": 110
        }
      ]
    },
    {
      "metadata": {
        "id": "NnMwMDhYIi25",
        "colab_type": "code",
        "colab": {}
      },
      "cell_type": "code",
      "source": [
        "sub.to_csv('subm.csv', index=False)"
      ],
      "execution_count": 0,
      "outputs": []
    },
    {
      "metadata": {
        "id": "-Rang3DVIrAO",
        "colab_type": "code",
        "colab": {}
      },
      "cell_type": "code",
      "source": [
        ""
      ],
      "execution_count": 0,
      "outputs": []
    }
  ]
}