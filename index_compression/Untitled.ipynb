{
 "cells": [
  {
   "cell_type": "code",
   "execution_count": 1,
   "metadata": {},
   "outputs": [],
   "source": [
    "import numpy as np\n",
    "import matplotlib.pyplot as plt\n",
    "%matplotlib inline"
   ]
  },
  {
   "cell_type": "code",
   "execution_count": null,
   "metadata": {},
   "outputs": [],
   "source": []
  },
  {
   "cell_type": "code",
   "execution_count": 2,
   "metadata": {},
   "outputs": [],
   "source": [
    "compression = []\n",
    "with open(\"index_compressing/compression_2\") as f:\n",
    "    for line in f:\n",
    "        tokens = line.strip().split('\\t')\n",
    "        compression.append(float(tokens[1]))"
   ]
  },
  {
   "cell_type": "code",
   "execution_count": 3,
   "metadata": {},
   "outputs": [
    {
     "data": {
      "text/plain": [
       "534100"
      ]
     },
     "execution_count": 3,
     "metadata": {},
     "output_type": "execute_result"
    }
   ],
   "source": [
    "len(compression)"
   ]
  },
  {
   "cell_type": "code",
   "execution_count": 10,
   "metadata": {},
   "outputs": [
    {
     "data": {
      "image/png": "[encoded data removed]",
      "text/plain": [
       "<Figure size 1080x504 with 1 Axes>"
      ]
     },
     "metadata": {
      "needs_background": "light"
     },
     "output_type": "display_data"
    }
   ],
   "source": [
    "plt.figure(figsize=(15, 7))\n",
    "plt.hist(compression, density=True, bins=10, label='compression ratio distribution')\n",
    "plt.grid(ls=':')\n",
    "plt.legend()\n",
    "plt.show()"
   ]
  },
  {
   "cell_type": "markdown",
   "metadata": {},
   "source": [
    "Очень много слов для которых постинг листы очень короткие или вообще состоят из 1 документа поэтому на них сжатие слабое"
   ]
  },
  {
   "cell_type": "code",
   "execution_count": 11,
   "metadata": {},
   "outputs": [],
   "source": [
    "import os"
   ]
  },
  {
   "cell_type": "code",
   "execution_count": 14,
   "metadata": {},
   "outputs": [
    {
     "name": "stdout",
     "output_type": "stream",
     "text": [
      "Initial index size:  97657696\n",
      "Compressed index size:  29279016\n",
      "Compression:  3.335415916983002\n"
     ]
    }
   ],
   "source": [
    "print('Initial index size: ', os.path.getsize('index_compressing/index'))\n",
    "print('Compressed index size: ', os.path.getsize('index_compressing/index_2'))\n",
    "print('Compression: ', os.path.getsize('index_compressing/index') / os.path.getsize('index_compressing/index_2'))"
   ]
  },
  {
   "cell_type": "code",
   "execution_count": 15,
   "metadata": {},
   "outputs": [],
   "source": [
    "word_to_comp = {}\n",
    "with open(\"index_compressing/compression_2\") as f:\n",
    "    for line in f:\n",
    "        tokens = line.strip().split('\\t')\n",
    "        compression = float(tokens[1])\n",
    "        cnt = float(tokens[2])\n",
    "        if cnt > 100:\n",
    "            word_to_comp[tokens[0]] = compression"
   ]
  },
  {
   "cell_type": "code",
   "execution_count": 16,
   "metadata": {},
   "outputs": [
    {
     "data": {
      "text/plain": [
       "15222"
      ]
     },
     "execution_count": 16,
     "metadata": {},
     "output_type": "execute_result"
    }
   ],
   "source": [
    "len(word_to_comp)"
   ]
  },
  {
   "cell_type": "code",
   "execution_count": 17,
   "metadata": {},
   "outputs": [
    {
     "data": {
      "text/plain": [
       "3.96448"
      ]
     },
     "execution_count": 17,
     "metadata": {},
     "output_type": "execute_result"
    }
   ],
   "source": [
    "word_to_comp['home']"
   ]
  },
  {
   "cell_type": "code",
   "execution_count": 19,
   "metadata": {},
   "outputs": [],
   "source": [
    "from collections import Counter"
   ]
  },
  {
   "cell_type": "code",
   "execution_count": 20,
   "metadata": {},
   "outputs": [],
   "source": [
    "cnt = Counter(word_to_comp)"
   ]
  },
  {
   "cell_type": "code",
   "execution_count": 22,
   "metadata": {},
   "outputs": [
    {
     "data": {
      "text/plain": [
       "[('the', 4.0),\n",
       " ('under', 4.0),\n",
       " ('hererelated', 4.0),\n",
       " ('be', 4.0),\n",
       " ('pagespermanent', 4.0),\n",
       " ('startsimple', 4.0),\n",
       " ('jump', 4.0),\n",
       " ('pdfpage', 4.0),\n",
       " ('linkpage', 4.0),\n",
       " ('changesshow', 4.0),\n",
       " ('encyclopedia', 4.0),\n",
       " ('informationwikidata', 4.0),\n",
       " ('changesupload', 4.0),\n",
       " ('other', 4.0),\n",
       " ('from', 4.0),\n",
       " ('on', 4.0),\n",
       " ('english', 4.0),\n",
       " ('and', 4.0),\n",
       " ('printing', 4.0),\n",
       " ('by', 4.0)]"
      ]
     },
     "execution_count": 22,
     "metadata": {},
     "output_type": "execute_result"
    }
   ],
   "source": [
    "cnt.most_common(20)"
   ]
  },
  {
   "cell_type": "code",
   "execution_count": 23,
   "metadata": {},
   "outputs": [],
   "source": [
    "anty_cnt = Counter({word: -c for word, c in word_to_comp.items()})"
   ]
  },
  {
   "cell_type": "code",
   "execution_count": 24,
   "metadata": {},
   "outputs": [
    {
     "data": {
      "text/plain": [
       "[('accomplished', -2.07725),\n",
       " ('ruin', -2.0793),\n",
       " ('bags', -2.08219),\n",
       " ('contributing', -2.09205),\n",
       " ('peterson', -2.09326),\n",
       " ('pictorial', -2.10204),\n",
       " ('sands', -2.10309),\n",
       " ('employs', -2.11168),\n",
       " ('prompted', -2.11399),\n",
       " ('sake', -2.12093),\n",
       " ('emerge', -2.12245),\n",
       " ('diploma', -2.12371),\n",
       " ('inter', -2.12371),\n",
       " ('prestigious', -2.12625),\n",
       " ('pants', -2.12632),\n",
       " ('diamonds', -2.12766),\n",
       " ('teens', -2.12844),\n",
       " ('imagination', -2.13084),\n",
       " ('prepares', -2.13333),\n",
       " ('seemingly', -2.13333)]"
      ]
     },
     "execution_count": 24,
     "metadata": {},
     "output_type": "execute_result"
    }
   ],
   "source": [
    "anty_cnt.most_common(20)"
   ]
  },
  {
   "cell_type": "markdown",
   "metadata": {},
   "source": [
    "Мне кажется, что слова которые сжимаются хорошо, встречаются почти во всех документах, поэтому дельты получаюся маленькие и постинг сжимается хорошо"
   ]
  },
  {
   "cell_type": "markdown",
   "metadata": {},
   "source": [
    "Другие же слова не такие частые, поэтому дельты получаюся больше"
   ]
  },
  {
   "cell_type": "code",
   "execution_count": null,
   "metadata": {},
   "outputs": [],
   "source": []
  }
 ],
 "metadata": {
  "kernelspec": {
   "display_name": "Python 3",
   "language": "python",
   "name": "python3"
  },
  "language_info": {
   "codemirror_mode": {
    "name": "ipython",
    "version": 3
   },
   "file_extension": ".py",
   "mimetype": "text/x-python",
   "name": "python",
   "nbconvert_exporter": "python",
   "pygments_lexer": "ipython3",
   "version": "3.6.6"
  }
 },
 "nbformat": 4,
 "nbformat_minor": 2
}
